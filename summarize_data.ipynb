{
 "cells": [
  {
   "cell_type": "code",
   "execution_count": 13,
   "metadata": {},
   "outputs": [],
   "source": [
    "import lightkurve as lk\n",
    "import numpy as np\n",
    "import pandas as pd"
   ]
  },
  {
   "cell_type": "code",
   "execution_count": 2,
   "metadata": {},
   "outputs": [
    {
     "data": {
      "text/html": [
       "<div>\n",
       "<style scoped>\n",
       "    .dataframe tbody tr th:only-of-type {\n",
       "        vertical-align: middle;\n",
       "    }\n",
       "\n",
       "    .dataframe tbody tr th {\n",
       "        vertical-align: top;\n",
       "    }\n",
       "\n",
       "    .dataframe thead th {\n",
       "        text-align: right;\n",
       "    }\n",
       "</style>\n",
       "<table border=\"1\" class=\"dataframe\">\n",
       "  <thead>\n",
       "    <tr style=\"text-align: right;\">\n",
       "      <th></th>\n",
       "      <th>tic_id</th>\n",
       "      <th>kic_id</th>\n",
       "      <th>prot</th>\n",
       "    </tr>\n",
       "  </thead>\n",
       "  <tbody>\n",
       "    <tr>\n",
       "      <th>0</th>\n",
       "      <td>275493837</td>\n",
       "      <td>7756984</td>\n",
       "      <td>7.00</td>\n",
       "    </tr>\n",
       "    <tr>\n",
       "      <th>1</th>\n",
       "      <td>121789795</td>\n",
       "      <td>5352889</td>\n",
       "      <td>8.88</td>\n",
       "    </tr>\n",
       "    <tr>\n",
       "      <th>2</th>\n",
       "      <td>63007124</td>\n",
       "      <td>7033500</td>\n",
       "      <td>17.07</td>\n",
       "    </tr>\n",
       "    <tr>\n",
       "      <th>3</th>\n",
       "      <td>275490626</td>\n",
       "      <td>9025444</td>\n",
       "      <td>49.53</td>\n",
       "    </tr>\n",
       "    <tr>\n",
       "      <th>4</th>\n",
       "      <td>171098535</td>\n",
       "      <td>5561963</td>\n",
       "      <td>2.85</td>\n",
       "    </tr>\n",
       "    <tr>\n",
       "      <th>...</th>\n",
       "      <td>...</td>\n",
       "      <td>...</td>\n",
       "      <td>...</td>\n",
       "    </tr>\n",
       "    <tr>\n",
       "      <th>797</th>\n",
       "      <td>352010751</td>\n",
       "      <td>7510447</td>\n",
       "      <td>28.01</td>\n",
       "    </tr>\n",
       "    <tr>\n",
       "      <th>798</th>\n",
       "      <td>164654558</td>\n",
       "      <td>9202954</td>\n",
       "      <td>36.28</td>\n",
       "    </tr>\n",
       "    <tr>\n",
       "      <th>799</th>\n",
       "      <td>121460929</td>\n",
       "      <td>5436582</td>\n",
       "      <td>16.86</td>\n",
       "    </tr>\n",
       "    <tr>\n",
       "      <th>800</th>\n",
       "      <td>185058151</td>\n",
       "      <td>8264599</td>\n",
       "      <td>20.46</td>\n",
       "    </tr>\n",
       "    <tr>\n",
       "      <th>801</th>\n",
       "      <td>275493752</td>\n",
       "      <td>7756549</td>\n",
       "      <td>30.59</td>\n",
       "    </tr>\n",
       "  </tbody>\n",
       "</table>\n",
       "<p>802 rows × 3 columns</p>\n",
       "</div>"
      ],
      "text/plain": [
       "        tic_id   kic_id   prot\n",
       "0    275493837  7756984   7.00\n",
       "1    121789795  5352889   8.88\n",
       "2     63007124  7033500  17.07\n",
       "3    275490626  9025444  49.53\n",
       "4    171098535  5561963   2.85\n",
       "..         ...      ...    ...\n",
       "797  352010751  7510447  28.01\n",
       "798  164654558  9202954  36.28\n",
       "799  121460929  5436582  16.86\n",
       "800  185058151  8264599  20.46\n",
       "801  275493752  7756549  30.59\n",
       "\n",
       "[802 rows x 3 columns]"
      ]
     },
     "execution_count": 2,
     "metadata": {},
     "output_type": "execute_result"
    }
   ],
   "source": [
    "cat = pd.read_csv('tics_kics_mcq_rot.txt', names=['tic_id', 'kic_id', 'prot'], delim_whitespace=True)\n",
    "cat"
   ]
  },
  {
   "cell_type": "code",
   "execution_count": 17,
   "metadata": {
    "scrolled": true
   },
   "outputs": [
    {
     "name": "stdout",
     "output_type": "stream",
     "text": [
      "0 KIC7756984 TIC275493837\n"
     ]
    },
    {
     "name": "stderr",
     "output_type": "stream",
     "text": [
      "No data found for target \"TIC275493837\".\n"
     ]
    },
    {
     "name": "stdout",
     "output_type": "stream",
     "text": [
      "1 KIC5352889 TIC121789795\n"
     ]
    },
    {
     "name": "stderr",
     "output_type": "stream",
     "text": [
      "No data found for target \"TIC121789795\".\n"
     ]
    },
    {
     "name": "stdout",
     "output_type": "stream",
     "text": [
      "2 KIC7033500 TIC63007124\n"
     ]
    },
    {
     "name": "stderr",
     "output_type": "stream",
     "text": [
      "No data found for target \"TIC63007124\".\n"
     ]
    },
    {
     "name": "stdout",
     "output_type": "stream",
     "text": [
      "3 KIC9025444 TIC275490626\n"
     ]
    },
    {
     "name": "stderr",
     "output_type": "stream",
     "text": [
      "No data found for target \"TIC275490626\".\n"
     ]
    },
    {
     "name": "stdout",
     "output_type": "stream",
     "text": [
      "4 KIC5561963 TIC171098535\n"
     ]
    },
    {
     "name": "stderr",
     "output_type": "stream",
     "text": [
      "No data found for target \"TIC171098535\".\n"
     ]
    },
    {
     "name": "stdout",
     "output_type": "stream",
     "text": [
      "5 KIC8099075 TIC63210277\n",
      "6 KIC7584332 TIC351803000\n"
     ]
    },
    {
     "name": "stderr",
     "output_type": "stream",
     "text": [
      "No data found for target \"TIC351803000\".\n"
     ]
    },
    {
     "name": "stdout",
     "output_type": "stream",
     "text": [
      "7 KIC6228783 TIC170253623\n"
     ]
    },
    {
     "name": "stderr",
     "output_type": "stream",
     "text": [
      "No data found for target \"TIC170253623\".\n"
     ]
    },
    {
     "name": "stdout",
     "output_type": "stream",
     "text": [
      "8 KIC7517679 TIC158791870\n"
     ]
    },
    {
     "name": "stderr",
     "output_type": "stream",
     "text": [
      "No data found for target \"TIC158791870\".\n"
     ]
    },
    {
     "name": "stdout",
     "output_type": "stream",
     "text": [
      "9 KIC10124839 TIC164724054\n"
     ]
    },
    {
     "name": "stderr",
     "output_type": "stream",
     "text": [
      "No data found for target \"TIC164724054\".\n"
     ]
    },
    {
     "name": "stdout",
     "output_type": "stream",
     "text": [
      "10 KIC3643810 TIC122684770\n"
     ]
    },
    {
     "name": "stderr",
     "output_type": "stream",
     "text": [
      "No data found for target \"TIC122684770\".\n"
     ]
    },
    {
     "name": "stdout",
     "output_type": "stream",
     "text": [
      "11 KIC3633847 TIC121457565\n"
     ]
    },
    {
     "name": "stderr",
     "output_type": "stream",
     "text": [
      "No data found for target \"TIC121457565\".\n"
     ]
    },
    {
     "name": "stdout",
     "output_type": "stream",
     "text": [
      "12 KIC8972956 TIC273582401\n"
     ]
    },
    {
     "name": "stderr",
     "output_type": "stream",
     "text": [
      "No data found for target \"TIC273582401\".\n"
     ]
    },
    {
     "name": "stdout",
     "output_type": "stream",
     "text": [
      "13 KIC10684727 TIC267991320\n"
     ]
    },
    {
     "name": "stderr",
     "output_type": "stream",
     "text": [
      "No data found for target \"TIC267991320\".\n"
     ]
    },
    {
     "name": "stdout",
     "output_type": "stream",
     "text": [
      "14 KIC3747118 TIC137218354\n"
     ]
    },
    {
     "name": "stderr",
     "output_type": "stream",
     "text": [
      "No data found for target \"TIC137218354\".\n"
     ]
    },
    {
     "name": "stdout",
     "output_type": "stream",
     "text": [
      "15 KIC4761031 TIC184089663\n",
      "16 KIC8179896 TIC272370950\n"
     ]
    },
    {
     "name": "stderr",
     "output_type": "stream",
     "text": [
      "No data found for target \"TIC272370950\".\n"
     ]
    },
    {
     "name": "stdout",
     "output_type": "stream",
     "text": [
      "17 KIC10006576 TIC159172008\n"
     ]
    },
    {
     "name": "stderr",
     "output_type": "stream",
     "text": [
      "No data found for target \"TIC159172008\".\n"
     ]
    },
    {
     "name": "stdout",
     "output_type": "stream",
     "text": [
      "18 KIC5264764 TIC121659832\n"
     ]
    },
    {
     "name": "stderr",
     "output_type": "stream",
     "text": [
      "No data found for target \"TIC121659832\".\n"
     ]
    },
    {
     "name": "stdout",
     "output_type": "stream",
     "text": [
      "19 KIC5022454 TIC138728898\n"
     ]
    },
    {
     "name": "stderr",
     "output_type": "stream",
     "text": [
      "No data found for target \"TIC138728898\".\n"
     ]
    },
    {
     "name": "stdout",
     "output_type": "stream",
     "text": [
      "20 KIC5384707 TIC169460055\n"
     ]
    },
    {
     "name": "stderr",
     "output_type": "stream",
     "text": [
      "No data found for target \"TIC169460055\".\n"
     ]
    },
    {
     "name": "stdout",
     "output_type": "stream",
     "text": [
      "21 KIC6306891 TIC169466444\n"
     ]
    },
    {
     "name": "stderr",
     "output_type": "stream",
     "text": [
      "No data found for target \"TIC169466444\".\n"
     ]
    },
    {
     "name": "stdout",
     "output_type": "stream",
     "text": [
      "22 KIC2845689 TIC122213500\n"
     ]
    },
    {
     "name": "stderr",
     "output_type": "stream",
     "text": [
      "No data found for target \"TIC122213500\".\n"
     ]
    },
    {
     "name": "stdout",
     "output_type": "stream",
     "text": [
      "23 KIC8432040 TIC63209318\n",
      "24 KIC2556702 TIC120963553\n"
     ]
    },
    {
     "name": "stderr",
     "output_type": "stream",
     "text": [
      "No data found for target \"TIC120963553\".\n"
     ]
    },
    {
     "name": "stdout",
     "output_type": "stream",
     "text": [
      "25 KIC12010753 TIC267746802\n",
      "26 KIC9595170 TIC271165094\n"
     ]
    },
    {
     "name": "stderr",
     "output_type": "stream",
     "text": [
      "No data found for target \"TIC271165094\".\n"
     ]
    },
    {
     "name": "stdout",
     "output_type": "stream",
     "text": [
      "27 KIC11197664 TIC27395090\n"
     ]
    },
    {
     "name": "stderr",
     "output_type": "stream",
     "text": [
      "No data found for target \"TIC27395090\".\n"
     ]
    },
    {
     "name": "stdout",
     "output_type": "stream",
     "text": [
      "28 KIC11237492 TIC298964604\n",
      "29 KIC6611940 TIC270608620\n"
     ]
    },
    {
     "name": "stderr",
     "output_type": "stream",
     "text": [
      "No data found for target \"TIC270608620\".\n"
     ]
    },
    {
     "name": "stdout",
     "output_type": "stream",
     "text": [
      "30 KIC8264427 TIC185058148\n"
     ]
    },
    {
     "name": "stderr",
     "output_type": "stream",
     "text": [
      "No data found for target \"TIC185058148\".\n"
     ]
    },
    {
     "name": "stdout",
     "output_type": "stream",
     "text": [
      "31 KIC9226959 TIC271426791\n"
     ]
    },
    {
     "name": "stderr",
     "output_type": "stream",
     "text": [
      "No data found for target \"TIC271426791\".\n"
     ]
    },
    {
     "name": "stdout",
     "output_type": "stream",
     "text": [
      "32 KIC9172572 TIC273687618\n"
     ]
    },
    {
     "name": "stderr",
     "output_type": "stream",
     "text": [
      "No data found for target \"TIC273687618\".\n"
     ]
    },
    {
     "name": "stdout",
     "output_type": "stream",
     "text": [
      "33 KIC8574353 TIC272719990\n"
     ]
    },
    {
     "name": "stderr",
     "output_type": "stream",
     "text": [
      "No data found for target \"TIC272719990\".\n"
     ]
    },
    {
     "name": "stdout",
     "output_type": "stream",
     "text": [
      "34 KIC5809758 TIC239227465\n"
     ]
    },
    {
     "name": "stderr",
     "output_type": "stream",
     "text": [
      "No data found for target \"TIC239227465\".\n"
     ]
    },
    {
     "name": "stdout",
     "output_type": "stream",
     "text": [
      "35 KIC11512772 TIC27186774\n"
     ]
    },
    {
     "name": "stderr",
     "output_type": "stream",
     "text": [
      "No data found for target \"TIC27186774\".\n"
     ]
    },
    {
     "name": "stdout",
     "output_type": "stream",
     "text": [
      "36 KIC7129992 TIC271538184\n"
     ]
    },
    {
     "name": "stderr",
     "output_type": "stream",
     "text": [
      "No data found for target \"TIC271538184\".\n"
     ]
    },
    {
     "name": "stdout",
     "output_type": "stream",
     "text": [
      "37 KIC4142809 TIC121215119\n"
     ]
    },
    {
     "name": "stderr",
     "output_type": "stream",
     "text": [
      "No data found for target \"TIC121215119\".\n"
     ]
    },
    {
     "name": "stdout",
     "output_type": "stream",
     "text": [
      "38 KIC3946300 TIC121939294\n"
     ]
    },
    {
     "name": "stderr",
     "output_type": "stream",
     "text": [
      "No data found for target \"TIC121939294\".\n"
     ]
    },
    {
     "name": "stdout",
     "output_type": "stream",
     "text": [
      "39 KIC8938427 TIC352013209\n"
     ]
    },
    {
     "name": "stderr",
     "output_type": "stream",
     "text": [
      "No data found for target \"TIC352013209\".\n"
     ]
    },
    {
     "name": "stdout",
     "output_type": "stream",
     "text": [
      "40 KIC8330380 TIC185058255\n"
     ]
    },
    {
     "name": "stderr",
     "output_type": "stream",
     "text": [
      "No data found for target \"TIC185058255\".\n"
     ]
    },
    {
     "name": "stdout",
     "output_type": "stream",
     "text": [
      "41 KIC5473615 TIC170344764\n"
     ]
    },
    {
     "name": "stderr",
     "output_type": "stream",
     "text": [
      "No data found for target \"TIC170344764\".\n"
     ]
    },
    {
     "name": "stdout",
     "output_type": "stream",
     "text": [
      "42 KIC3658536 TIC378084176\n"
     ]
    },
    {
     "name": "stderr",
     "output_type": "stream",
     "text": [
      "No data found for target \"TIC378084176\".\n"
     ]
    },
    {
     "name": "stdout",
     "output_type": "stream",
     "text": [
      "43 KIC5344075 TIC120422997\n"
     ]
    },
    {
     "name": "stderr",
     "output_type": "stream",
     "text": [
      "No data found for target \"TIC120422997\".\n"
     ]
    },
    {
     "name": "stdout",
     "output_type": "stream",
     "text": [
      "44 KIC8300087 TIC63075888\n"
     ]
    },
    {
     "name": "stderr",
     "output_type": "stream",
     "text": [
      "No data found for target \"TIC63075888\".\n"
     ]
    },
    {
     "name": "stdout",
     "output_type": "stream",
     "text": [
      "45 KIC9028495 TIC270856793\n"
     ]
    },
    {
     "name": "stderr",
     "output_type": "stream",
     "text": [
      "No data found for target \"TIC270856793\".\n"
     ]
    },
    {
     "name": "stdout",
     "output_type": "stream",
     "text": [
      "46 KIC11192119 TIC26597576\n"
     ]
    },
    {
     "name": "stderr",
     "output_type": "stream",
     "text": [
      "No data found for target \"TIC26597576\".\n"
     ]
    },
    {
     "name": "stdout",
     "output_type": "stream",
     "text": [
      "47 KIC10394802 TIC158412743\n"
     ]
    },
    {
     "name": "stderr",
     "output_type": "stream",
     "text": [
      "No data found for target \"TIC158412743\".\n"
     ]
    },
    {
     "name": "stdout",
     "output_type": "stream",
     "text": [
      "48 KIC5520881 TIC121329643\n"
     ]
    },
    {
     "name": "stderr",
     "output_type": "stream",
     "text": [
      "No data found for target \"TIC121329643\".\n"
     ]
    },
    {
     "name": "stdout",
     "output_type": "stream",
     "text": [
      "49 KIC2162377 TIC351055098\n"
     ]
    },
    {
     "name": "stderr",
     "output_type": "stream",
     "text": [
      "No data found for target \"TIC351055098\".\n"
     ]
    },
    {
     "name": "stdout",
     "output_type": "stream",
     "text": [
      "50 KIC1996773 TIC120890400\n"
     ]
    },
    {
     "name": "stderr",
     "output_type": "stream",
     "text": [
      "No data found for target \"TIC120890400\".\n"
     ]
    },
    {
     "name": "stdout",
     "output_type": "stream",
     "text": [
      "51 KIC6205481 TIC137408312\n"
     ]
    },
    {
     "name": "stderr",
     "output_type": "stream",
     "text": [
      "No data found for target \"TIC137408312\".\n"
     ]
    },
    {
     "name": "stdout",
     "output_type": "stream",
     "text": [
      "52 KIC11911283 TIC267671733\n"
     ]
    },
    {
     "name": "stderr",
     "output_type": "stream",
     "text": [
      "No data found for target \"TIC267671733\".\n"
     ]
    },
    {
     "name": "stdout",
     "output_type": "stream",
     "text": [
      "53 KIC7016864 TIC279916031\n"
     ]
    },
    {
     "name": "stderr",
     "output_type": "stream",
     "text": [
      "No data found for target \"TIC279916031\".\n"
     ]
    },
    {
     "name": "stdout",
     "output_type": "stream",
     "text": [
      "54 KIC9839696 TIC271547585\n"
     ]
    },
    {
     "name": "stderr",
     "output_type": "stream",
     "text": [
      "No data found for target \"TIC271547585\".\n"
     ]
    },
    {
     "name": "stdout",
     "output_type": "stream",
     "text": [
      "55 KIC9764489 TIC158936101\n"
     ]
    },
    {
     "name": "stderr",
     "output_type": "stream",
     "text": [
      "No data found for target \"TIC158936101\".\n"
     ]
    },
    {
     "name": "stdout",
     "output_type": "stream",
     "text": [
      "56 KIC3946262 TIC121939266\n",
      "57 KIC5207114 TIC239225673\n"
     ]
    },
    {
     "name": "stderr",
     "output_type": "stream",
     "text": [
      "No data found for target \"TIC239225673\".\n"
     ]
    },
    {
     "name": "stdout",
     "output_type": "stream",
     "text": [
      "58 KIC11920493 TIC27389081\n"
     ]
    },
    {
     "name": "stderr",
     "output_type": "stream",
     "text": [
      "No data found for target \"TIC27389081\".\n"
     ]
    },
    {
     "name": "stdout",
     "output_type": "stream",
     "text": [
      "59 KIC4355362 TIC121785547\n"
     ]
    },
    {
     "name": "stderr",
     "output_type": "stream",
     "text": [
      "No data found for target \"TIC121785547\".\n"
     ]
    },
    {
     "name": "stdout",
     "output_type": "stream",
     "text": [
      "60 KIC5630581 TIC138725623\n"
     ]
    },
    {
     "name": "stderr",
     "output_type": "stream",
     "text": [
      "No data found for target \"TIC138725623\".\n"
     ]
    },
    {
     "name": "stdout",
     "output_type": "stream",
     "text": [
      "61 KIC6059860 TIC360022896\n"
     ]
    },
    {
     "name": "stderr",
     "output_type": "stream",
     "text": [
      "No data found for target \"TIC360022896\".\n"
     ]
    },
    {
     "name": "stdout",
     "output_type": "stream",
     "text": [
      "62 KIC11188956 TIC417676374\n",
      "63 KIC5113809 TIC184090759\n"
     ]
    },
    {
     "name": "stderr",
     "output_type": "stream",
     "text": [
      "No data found for target \"TIC184090759\".\n"
     ]
    },
    {
     "name": "stdout",
     "output_type": "stream",
     "text": [
      "64 KIC5122110 TIC169458817\n"
     ]
    },
    {
     "name": "stderr",
     "output_type": "stream",
     "text": [
      "No data found for target \"TIC169458817\".\n"
     ]
    },
    {
     "name": "stdout",
     "output_type": "stream",
     "text": [
      "65 KIC9963255 TIC272596433\n",
      "66 KIC8435699 TIC270701679\n"
     ]
    },
    {
     "name": "stderr",
     "output_type": "stream",
     "text": [
      "No data found for target \"TIC270701679\".\n"
     ]
    },
    {
     "name": "stdout",
     "output_type": "stream",
     "text": [
      "67 KIC7365528 TIC63368484\n"
     ]
    },
    {
     "name": "stderr",
     "output_type": "stream",
     "text": [
      "No data found for target \"TIC63368484\".\n"
     ]
    },
    {
     "name": "stdout",
     "output_type": "stream",
     "text": [
      "68 KIC3542117 TIC122519173\n"
     ]
    },
    {
     "name": "stderr",
     "output_type": "stream",
     "text": [
      "No data found for target \"TIC122519173\".\n"
     ]
    },
    {
     "name": "stdout",
     "output_type": "stream",
     "text": [
      "69 KIC7375418 TIC271671073\n"
     ]
    },
    {
     "name": "stderr",
     "output_type": "stream",
     "text": [
      "No data found for target \"TIC271671073\".\n"
     ]
    },
    {
     "name": "stdout",
     "output_type": "stream",
     "text": [
      "70 KIC7129959 TIC271538204\n"
     ]
    },
    {
     "name": "stderr",
     "output_type": "stream",
     "text": [
      "No data found for target \"TIC271538204\".\n"
     ]
    },
    {
     "name": "stdout",
     "output_type": "stream",
     "text": [
      "71 KIC10420031 TIC273048382\n"
     ]
    },
    {
     "name": "stderr",
     "output_type": "stream",
     "text": [
      "No data found for target \"TIC273048382\".\n"
     ]
    },
    {
     "name": "stdout",
     "output_type": "stream",
     "text": [
      "72 KIC8429280 TIC159721038\n",
      "73 KIC10536761 TIC63291536\n"
     ]
    },
    {
     "name": "stderr",
     "output_type": "stream",
     "text": [
      "No data found for target \"TIC63291536\".\n"
     ]
    },
    {
     "name": "stdout",
     "output_type": "stream",
     "text": [
      "74 KIC7376732 TIC271959015\n",
      "75 KIC4242514 TIC120424807\n"
     ]
    },
    {
     "name": "stderr",
     "output_type": "stream",
     "text": [
      "No data found for target \"TIC120424807\".\n"
     ]
    },
    {
     "name": "stdout",
     "output_type": "stream",
     "text": [
      "76 KIC7206808 TIC270705471\n"
     ]
    },
    {
     "name": "stderr",
     "output_type": "stream",
     "text": [
      "No data found for target \"TIC270705471\".\n"
     ]
    },
    {
     "name": "stdout",
     "output_type": "stream",
     "text": [
      "77 KIC5470396 TIC169460296\n"
     ]
    },
    {
     "name": "stderr",
     "output_type": "stream",
     "text": [
      "No data found for target \"TIC169460296\".\n"
     ]
    },
    {
     "name": "stdout",
     "output_type": "stream",
     "text": [
      "78 KIC9228734 TIC271882234\n"
     ]
    },
    {
     "name": "stderr",
     "output_type": "stream",
     "text": [
      "No data found for target \"TIC271882234\".\n"
     ]
    },
    {
     "name": "stdout",
     "output_type": "stream",
     "text": [
      "79 KIC9940621 TIC158211179\n"
     ]
    },
    {
     "name": "stderr",
     "output_type": "stream",
     "text": [
      "No data found for target \"TIC158211179\".\n"
     ]
    },
    {
     "name": "stdout",
     "output_type": "stream",
     "text": [
      "80 KIC5648491 TIC171097828\n"
     ]
    },
    {
     "name": "stderr",
     "output_type": "stream",
     "text": [
      "No data found for target \"TIC171097828\".\n"
     ]
    },
    {
     "name": "stdout",
     "output_type": "stream",
     "text": [
      "81 KIC9964565 TIC272843671\n"
     ]
    },
    {
     "name": "stderr",
     "output_type": "stream",
     "text": [
      "No data found for target \"TIC272843671\".\n"
     ]
    },
    {
     "name": "stdout",
     "output_type": "stream",
     "text": [
      "82 KIC8881476 TIC159387867\n"
     ]
    },
    {
     "name": "stderr",
     "output_type": "stream",
     "text": [
      "No data found for target \"TIC159387867\".\n"
     ]
    },
    {
     "name": "stdout",
     "output_type": "stream",
     "text": [
      "83 KIC3424763 TIC399793859\n"
     ]
    },
    {
     "name": "stderr",
     "output_type": "stream",
     "text": [
      "No data found for target \"TIC399793859\".\n"
     ]
    },
    {
     "name": "stdout",
     "output_type": "stream",
     "text": [
      "84 KIC9788062 TIC273684707\n"
     ]
    },
    {
     "name": "stderr",
     "output_type": "stream",
     "text": [
      "No data found for target \"TIC273684707\".\n"
     ]
    },
    {
     "name": "stdout",
     "output_type": "stream",
     "text": [
      "85 KIC10977830 TIC26749760\n"
     ]
    },
    {
     "name": "stderr",
     "output_type": "stream",
     "text": [
      "No data found for target \"TIC26749760\".\n"
     ]
    },
    {
     "name": "stdout",
     "output_type": "stream",
     "text": [
      "86 KIC4750012 TIC137762577\n"
     ]
    },
    {
     "name": "stderr",
     "output_type": "stream",
     "text": [
      "No data found for target \"TIC137762577\".\n"
     ]
    },
    {
     "name": "stdout",
     "output_type": "stream",
     "text": [
      "87 KIC6468409 TIC171092157\n"
     ]
    },
    {
     "name": "stderr",
     "output_type": "stream",
     "text": [
      "No data found for target \"TIC171092157\".\n"
     ]
    },
    {
     "name": "stdout",
     "output_type": "stream",
     "text": [
      "88 KIC4284493 TIC184555191\n"
     ]
    },
    {
     "name": "stderr",
     "output_type": "stream",
     "text": [
      "No data found for target \"TIC184555191\".\n"
     ]
    },
    {
     "name": "stdout",
     "output_type": "stream",
     "text": [
      "89 KIC12009511 TIC299218911\n"
     ]
    },
    {
     "name": "stderr",
     "output_type": "stream",
     "text": [
      "No data found for target \"TIC299218911\".\n"
     ]
    },
    {
     "name": "stdout",
     "output_type": "stream",
     "text": [
      "90 KIC3236302 TIC137317669\n"
     ]
    },
    {
     "name": "stderr",
     "output_type": "stream",
     "text": [
      "No data found for target \"TIC137317669\".\n"
     ]
    },
    {
     "name": "stdout",
     "output_type": "stream",
     "text": [
      "91 KIC10753811 TIC416634984\n"
     ]
    },
    {
     "name": "stderr",
     "output_type": "stream",
     "text": [
      "No data found for target \"TIC416634984\".\n"
     ]
    },
    {
     "name": "stdout",
     "output_type": "stream",
     "text": [
      "92 KIC9701450 TIC158491145\n"
     ]
    },
    {
     "name": "stderr",
     "output_type": "stream",
     "text": [
      "No data found for target \"TIC158491145\".\n"
     ]
    },
    {
     "name": "stdout",
     "output_type": "stream",
     "text": [
      "93 KIC12254845 TIC299218360\n"
     ]
    },
    {
     "name": "stderr",
     "output_type": "stream",
     "text": [
      "No data found for target \"TIC299218360\".\n"
     ]
    },
    {
     "name": "stdout",
     "output_type": "stream",
     "text": [
      "94 KIC10489544 TIC273875308\n"
     ]
    },
    {
     "name": "stderr",
     "output_type": "stream",
     "text": [
      "No data found for target \"TIC273875308\".\n"
     ]
    },
    {
     "name": "stdout",
     "output_type": "stream",
     "text": [
      "95 KIC2299540 TIC122516532\n"
     ]
    },
    {
     "name": "stderr",
     "output_type": "stream",
     "text": [
      "No data found for target \"TIC122516532\".\n"
     ]
    },
    {
     "name": "stdout",
     "output_type": "stream",
     "text": [
      "96 KIC4732363 TIC121107688\n"
     ]
    },
    {
     "name": "stderr",
     "output_type": "stream",
     "text": [
      "No data found for target \"TIC121107688\".\n"
     ]
    },
    {
     "name": "stdout",
     "output_type": "stream",
     "text": [
      "97 KIC12784183 TIC267673950\n",
      "98 KIC6956092 TIC270863295\n"
     ]
    },
    {
     "name": "stderr",
     "output_type": "stream",
     "text": [
      "No data found for target \"TIC270863295\".\n"
     ]
    },
    {
     "name": "stdout",
     "output_type": "stream",
     "text": [
      "99 KIC5470414 TIC169460249\n"
     ]
    },
    {
     "name": "stderr",
     "output_type": "stream",
     "text": [
      "No data found for target \"TIC169460249\".\n"
     ]
    },
    {
     "name": "stdout",
     "output_type": "stream",
     "text": [
      "100 KIC8608312 TIC164652676\n",
      "101 KIC10748458 TIC28230926\n"
     ]
    },
    {
     "name": "stderr",
     "output_type": "stream",
     "text": [
      "No data found for target \"TIC28230926\".\n"
     ]
    },
    {
     "name": "stdout",
     "output_type": "stream",
     "text": [
      "102 KIC11769765 TIC27396955\n"
     ]
    },
    {
     "name": "stderr",
     "output_type": "stream",
     "text": [
      "No data found for target \"TIC27396955\".\n"
     ]
    },
    {
     "name": "stdout",
     "output_type": "stream",
     "text": [
      "103 KIC5817457 TIC170735548\n"
     ]
    },
    {
     "name": "stderr",
     "output_type": "stream",
     "text": [
      "No data found for target \"TIC170735548\".\n"
     ]
    },
    {
     "name": "stdout",
     "output_type": "stream",
     "text": [
      "104 KIC10547685 TIC272598447\n",
      "105 KIC11360739 TIC27847908\n"
     ]
    },
    {
     "name": "stderr",
     "output_type": "stream",
     "text": [
      "No data found for target \"TIC27847908\".\n"
     ]
    },
    {
     "name": "stdout",
     "output_type": "stream",
     "text": [
      "106 KIC12158378 TIC417678587\n"
     ]
    },
    {
     "name": "stderr",
     "output_type": "stream",
     "text": [
      "No data found for target \"TIC417678587\".\n"
     ]
    },
    {
     "name": "stdout",
     "output_type": "stream",
     "text": [
      "107 KIC12317663 TIC351194310\n"
     ]
    },
    {
     "name": "stderr",
     "output_type": "stream",
     "text": [
      "No data found for target \"TIC351194310\".\n"
     ]
    },
    {
     "name": "stdout",
     "output_type": "stream",
     "text": [
      "108 KIC7820558 TIC159650508\n"
     ]
    },
    {
     "name": "stderr",
     "output_type": "stream",
     "text": [
      "No data found for target \"TIC159650508\".\n"
     ]
    },
    {
     "name": "stdout",
     "output_type": "stream",
     "text": [
      "109 KIC7816142 TIC159105692\n"
     ]
    },
    {
     "name": "stderr",
     "output_type": "stream",
     "text": [
      "No data found for target \"TIC159105692\".\n"
     ]
    },
    {
     "name": "stdout",
     "output_type": "stream",
     "text": [
      "110 KIC9153823 TIC159761678\n"
     ]
    },
    {
     "name": "stderr",
     "output_type": "stream",
     "text": [
      "No data found for target \"TIC159761678\".\n"
     ]
    },
    {
     "name": "stdout",
     "output_type": "stream",
     "text": [
      "111 KIC5184740 TIC122713327\n"
     ]
    },
    {
     "name": "stderr",
     "output_type": "stream",
     "text": [
      "No data found for target \"TIC122713327\".\n"
     ]
    },
    {
     "name": "stdout",
     "output_type": "stream",
     "text": [
      "112 KIC8191020 TIC268606389\n"
     ]
    },
    {
     "name": "stderr",
     "output_type": "stream",
     "text": [
      "No data found for target \"TIC268606389\".\n"
     ]
    },
    {
     "name": "stdout",
     "output_type": "stream",
     "text": [
      "113 KIC12253019 TIC298969635\n",
      "114 KIC4178645 TIC184416995\n"
     ]
    },
    {
     "name": "stderr",
     "output_type": "stream",
     "text": [
      "No data found for target \"TIC184416995\".\n"
     ]
    },
    {
     "name": "stdout",
     "output_type": "stream",
     "text": [
      "115 KIC10483447 TIC272598130\n"
     ]
    },
    {
     "name": "stderr",
     "output_type": "stream",
     "text": [
      "No data found for target \"TIC272598130\".\n"
     ]
    },
    {
     "name": "stdout",
     "output_type": "stream",
     "text": [
      "116 KIC10732086 TIC424865046\n",
      "117 KIC6504558 TIC164886579\n"
     ]
    },
    {
     "name": "stderr",
     "output_type": "stream",
     "text": [
      "No data found for target \"TIC164886579\".\n"
     ]
    },
    {
     "name": "stdout",
     "output_type": "stream",
     "text": [
      "118 KIC8912338 TIC239276119\n"
     ]
    },
    {
     "name": "stderr",
     "output_type": "stream",
     "text": [
      "No data found for target \"TIC239276119\".\n"
     ]
    },
    {
     "name": "stdout",
     "output_type": "stream",
     "text": [
      "119 KIC8351156 TIC164889747\n"
     ]
    },
    {
     "name": "stderr",
     "output_type": "stream",
     "text": [
      "No data found for target \"TIC164889747\".\n"
     ]
    },
    {
     "name": "stdout",
     "output_type": "stream",
     "text": [
      "120 KIC5113843 TIC184090705\n"
     ]
    },
    {
     "name": "stderr",
     "output_type": "stream",
     "text": [
      "No data found for target \"TIC184090705\".\n"
     ]
    },
    {
     "name": "stdout",
     "output_type": "stream",
     "text": [
      "121 KIC11446143 TIC399826070\n",
      "122 KIC7199036 TIC159717504\n"
     ]
    },
    {
     "name": "stderr",
     "output_type": "stream",
     "text": [
      "No data found for target \"TIC159717504\".\n"
     ]
    },
    {
     "name": "stdout",
     "output_type": "stream",
     "text": [
      "123 KIC3221638 TIC121276464\n"
     ]
    },
    {
     "name": "stderr",
     "output_type": "stream",
     "text": [
      "No data found for target \"TIC121276464\".\n"
     ]
    },
    {
     "name": "stdout",
     "output_type": "stream",
     "text": [
      "124 KIC8454354 TIC268607996\n"
     ]
    },
    {
     "name": "stderr",
     "output_type": "stream",
     "text": [
      "No data found for target \"TIC268607996\".\n"
     ]
    },
    {
     "name": "stdout",
     "output_type": "stream",
     "text": [
      "125 KIC12354360 TIC267672881\n",
      "126 KIC8587787 TIC239290060\n"
     ]
    },
    {
     "name": "stderr",
     "output_type": "stream",
     "text": [
      "No data found for target \"TIC239290060\".\n"
     ]
    },
    {
     "name": "stdout",
     "output_type": "stream",
     "text": [
      "127 KIC10146119 TIC270696609\n",
      "128 KIC4548654 TIC121327910\n"
     ]
    },
    {
     "name": "stderr",
     "output_type": "stream",
     "text": [
      "No data found for target \"TIC121327910\".\n"
     ]
    },
    {
     "name": "stdout",
     "output_type": "stream",
     "text": [
      "129 KIC9970838 TIC268380764\n"
     ]
    },
    {
     "name": "stderr",
     "output_type": "stream",
     "text": [
      "No data found for target \"TIC268380764\".\n"
     ]
    },
    {
     "name": "stdout",
     "output_type": "stream",
     "text": [
      "130 KIC4159288 TIC137403018\n",
      "131 KIC4175473 TIC184087631\n"
     ]
    },
    {
     "name": "stderr",
     "output_type": "stream",
     "text": [
      "No data found for target \"TIC184087631\".\n"
     ]
    },
    {
     "name": "stdout",
     "output_type": "stream",
     "text": [
      "132 KIC10666012 TIC63070333\n"
     ]
    },
    {
     "name": "stderr",
     "output_type": "stream",
     "text": [
      "No data found for target \"TIC63070333\".\n"
     ]
    },
    {
     "name": "stdout",
     "output_type": "stream",
     "text": [
      "133 KIC3230050 TIC122224359\n",
      "134 KIC3459113 TIC139037063\n"
     ]
    },
    {
     "name": "stderr",
     "output_type": "stream",
     "text": [
      "No data found for target \"TIC139037063\".\n"
     ]
    },
    {
     "name": "stdout",
     "output_type": "stream",
     "text": [
      "135 KIC10081918 TIC271040166\n"
     ]
    },
    {
     "name": "stderr",
     "output_type": "stream",
     "text": [
      "No data found for target \"TIC271040166\".\n"
     ]
    },
    {
     "name": "stdout",
     "output_type": "stream",
     "text": [
      "136 KIC7523785 TIC159448893\n",
      "137 KIC3098263 TIC120693506\n",
      "138 KIC3749389 TIC137483595\n"
     ]
    },
    {
     "name": "stderr",
     "output_type": "stream",
     "text": [
      "No data found for target \"TIC137483595\".\n"
     ]
    },
    {
     "name": "stdout",
     "output_type": "stream",
     "text": [
      "139 KIC8112006 TIC272489007\n"
     ]
    },
    {
     "name": "stderr",
     "output_type": "stream",
     "text": [
      "No data found for target \"TIC272489007\".\n"
     ]
    },
    {
     "name": "stdout",
     "output_type": "stream",
     "text": [
      "140 KIC11183754 TIC298964764\n"
     ]
    },
    {
     "name": "stderr",
     "output_type": "stream",
     "text": [
      "No data found for target \"TIC298964764\".\n"
     ]
    },
    {
     "name": "stdout",
     "output_type": "stream",
     "text": [
      "141 KIC11244552 TIC26584032\n"
     ]
    },
    {
     "name": "stderr",
     "output_type": "stream",
     "text": [
      "No data found for target \"TIC26584032\".\n"
     ]
    },
    {
     "name": "stdout",
     "output_type": "stream",
     "text": [
      "142 KIC6059649 TIC184561778\n"
     ]
    },
    {
     "name": "stderr",
     "output_type": "stream",
     "text": [
      "No data found for target \"TIC184561778\".\n"
     ]
    },
    {
     "name": "stdout",
     "output_type": "stream",
     "text": [
      "143 KIC3425393 TIC120572101\n"
     ]
    },
    {
     "name": "stderr",
     "output_type": "stream",
     "text": [
      "No data found for target \"TIC120572101\".\n"
     ]
    },
    {
     "name": "stdout",
     "output_type": "stream",
     "text": [
      "144 KIC9489970 TIC239233636\n"
     ]
    },
    {
     "name": "stderr",
     "output_type": "stream",
     "text": [
      "No data found for target \"TIC239233636\".\n"
     ]
    },
    {
     "name": "stdout",
     "output_type": "stream",
     "text": [
      "145 KIC4862742 TIC170644282\n"
     ]
    },
    {
     "name": "stderr",
     "output_type": "stream",
     "text": [
      "No data found for target \"TIC170644282\".\n"
     ]
    },
    {
     "name": "stdout",
     "output_type": "stream",
     "text": [
      "146 KIC5357530 TIC122300188\n"
     ]
    },
    {
     "name": "stderr",
     "output_type": "stream",
     "text": [
      "No data found for target \"TIC122300188\".\n"
     ]
    },
    {
     "name": "stdout",
     "output_type": "stream",
     "text": [
      "147 KIC3448323 TIC137687454\n"
     ]
    },
    {
     "name": "stderr",
     "output_type": "stream",
     "text": [
      "No data found for target \"TIC137687454\".\n"
     ]
    },
    {
     "name": "stdout",
     "output_type": "stream",
     "text": [
      "148 KIC7198881 TIC159717535\n"
     ]
    },
    {
     "name": "stderr",
     "output_type": "stream",
     "text": [
      "No data found for target \"TIC159717535\".\n"
     ]
    },
    {
     "name": "stdout",
     "output_type": "stream",
     "text": [
      "149 KIC5567065 TIC172423352\n"
     ]
    },
    {
     "name": "stderr",
     "output_type": "stream",
     "text": [
      "No data found for target \"TIC172423352\".\n"
     ]
    },
    {
     "name": "stdout",
     "output_type": "stream",
     "text": [
      "150 KIC8408783 TIC123202973\n"
     ]
    },
    {
     "name": "stderr",
     "output_type": "stream",
     "text": [
      "No data found for target \"TIC123202973\".\n"
     ]
    },
    {
     "name": "stdout",
     "output_type": "stream",
     "text": [
      "151 KIC7431709 TIC158431839\n"
     ]
    },
    {
     "name": "stderr",
     "output_type": "stream",
     "text": [
      "No data found for target \"TIC158431839\".\n"
     ]
    },
    {
     "name": "stdout",
     "output_type": "stream",
     "text": [
      "152 KIC9543658 TIC273685880\n"
     ]
    },
    {
     "name": "stderr",
     "output_type": "stream",
     "text": [
      "No data found for target \"TIC273685880\".\n"
     ]
    },
    {
     "name": "stdout",
     "output_type": "stream",
     "text": [
      "153 KIC12255990 TIC267746242\n"
     ]
    },
    {
     "name": "stderr",
     "output_type": "stream",
     "text": [
      "No data found for target \"TIC267746242\".\n"
     ]
    },
    {
     "name": "stdout",
     "output_type": "stream",
     "text": [
      "154 KIC5966043 TIC138297284\n"
     ]
    },
    {
     "name": "stderr",
     "output_type": "stream",
     "text": [
      "No data found for target \"TIC138297284\".\n"
     ]
    },
    {
     "name": "stdout",
     "output_type": "stream",
     "text": [
      "155 KIC11702167 TIC350814367\n",
      "156 KIC5738091 TIC172422364\n"
     ]
    },
    {
     "name": "stderr",
     "output_type": "stream",
     "text": [
      "No data found for target \"TIC172422364\".\n"
     ]
    },
    {
     "name": "stdout",
     "output_type": "stream",
     "text": [
      "157 KIC9414381 TIC271881484\n"
     ]
    },
    {
     "name": "stderr",
     "output_type": "stream",
     "text": [
      "No data found for target \"TIC271881484\".\n"
     ]
    },
    {
     "name": "stdout",
     "output_type": "stream",
     "text": [
      "158 KIC3946749 TIC121989139\n"
     ]
    },
    {
     "name": "stderr",
     "output_type": "stream",
     "text": [
      "No data found for target \"TIC121989139\".\n"
     ]
    },
    {
     "name": "stdout",
     "output_type": "stream",
     "text": [
      "159 KIC7133395 TIC272179248\n"
     ]
    },
    {
     "name": "stderr",
     "output_type": "stream",
     "text": [
      "No data found for target \"TIC272179248\".\n"
     ]
    },
    {
     "name": "stdout",
     "output_type": "stream",
     "text": [
      "160 KIC3449953 TIC137975419\n",
      "161 KIC10192231 TIC164724031\n"
     ]
    },
    {
     "name": "stderr",
     "output_type": "stream",
     "text": [
      "No data found for target \"TIC164724031\".\n"
     ]
    },
    {
     "name": "stdout",
     "output_type": "stream",
     "text": [
      "162 KIC11920526 TIC27389086\n"
     ]
    },
    {
     "name": "stderr",
     "output_type": "stream",
     "text": [
      "No data found for target \"TIC27389086\".\n"
     ]
    },
    {
     "name": "stdout",
     "output_type": "stream",
     "text": [
      "163 KIC7041883 TIC270949369\n"
     ]
    },
    {
     "name": "stderr",
     "output_type": "stream",
     "text": [
      "No data found for target \"TIC270949369\".\n"
     ]
    },
    {
     "name": "stdout",
     "output_type": "stream",
     "text": [
      "164 KIC8702985 TIC272606423\n"
     ]
    },
    {
     "name": "stderr",
     "output_type": "stream",
     "text": [
      "No data found for target \"TIC272606423\".\n"
     ]
    },
    {
     "name": "stdout",
     "output_type": "stream",
     "text": [
      "165 KIC12156630 TIC267672347\n",
      "166 KIC10129332 TIC158322383\n"
     ]
    },
    {
     "name": "stderr",
     "output_type": "stream",
     "text": [
      "No data found for target \"TIC158322383\".\n"
     ]
    },
    {
     "name": "stdout",
     "output_type": "stream",
     "text": [
      "167 KIC3747163 TIC137218360\n"
     ]
    },
    {
     "name": "stderr",
     "output_type": "stream",
     "text": [
      "No data found for target \"TIC137218360\".\n"
     ]
    },
    {
     "name": "stdout",
     "output_type": "stream",
     "text": [
      "168 KIC8364115 TIC159720797\n"
     ]
    },
    {
     "name": "stderr",
     "output_type": "stream",
     "text": [
      "No data found for target \"TIC159720797\".\n"
     ]
    },
    {
     "name": "stdout",
     "output_type": "stream",
     "text": [
      "169 KIC5197637 TIC378088842\n"
     ]
    },
    {
     "name": "stderr",
     "output_type": "stream",
     "text": [
      "No data found for target \"TIC378088842\".\n"
     ]
    },
    {
     "name": "stdout",
     "output_type": "stream",
     "text": [
      "170 KIC4247816 TIC121121678\n"
     ]
    },
    {
     "name": "stderr",
     "output_type": "stream",
     "text": [
      "No data found for target \"TIC121121678\".\n"
     ]
    },
    {
     "name": "stdout",
     "output_type": "stream",
     "text": [
      "171 KIC5344087 TIC120423008\n"
     ]
    },
    {
     "name": "stderr",
     "output_type": "stream",
     "text": [
      "No data found for target \"TIC120423008\".\n"
     ]
    },
    {
     "name": "stdout",
     "output_type": "stream",
     "text": [
      "172 KIC3955253 TIC137319639\n"
     ]
    },
    {
     "name": "stderr",
     "output_type": "stream",
     "text": [
      "No data found for target \"TIC137319639\".\n"
     ]
    },
    {
     "name": "stdout",
     "output_type": "stream",
     "text": [
      "173 KIC11869048 TIC27187836\n"
     ]
    },
    {
     "name": "stderr",
     "output_type": "stream",
     "text": [
      "No data found for target \"TIC27187836\".\n"
     ]
    },
    {
     "name": "stdout",
     "output_type": "stream",
     "text": [
      "174 KIC10684697 TIC267991272\n"
     ]
    },
    {
     "name": "stderr",
     "output_type": "stream",
     "text": [
      "No data found for target \"TIC267991272\".\n"
     ]
    },
    {
     "name": "stdout",
     "output_type": "stream",
     "text": [
      "175 KIC10285642 TIC272279258\n"
     ]
    },
    {
     "name": "stderr",
     "output_type": "stream",
     "text": [
      "No data found for target \"TIC272279258\".\n"
     ]
    },
    {
     "name": "stdout",
     "output_type": "stream",
     "text": [
      "176 KIC12507882 TIC267673222\n"
     ]
    },
    {
     "name": "stderr",
     "output_type": "stream",
     "text": [
      "No data found for target \"TIC267673222\".\n"
     ]
    },
    {
     "name": "stdout",
     "output_type": "stream",
     "text": [
      "177 KIC2556755 TIC120963587\n",
      "178 KIC8052016 TIC268160328\n"
     ]
    },
    {
     "name": "stderr",
     "output_type": "stream",
     "text": [
      "No data found for target \"TIC268160328\".\n"
     ]
    },
    {
     "name": "stdout",
     "output_type": "stream",
     "text": [
      "179 KIC10160534 TIC273872616\n",
      "180 KIC5867346 TIC121791951\n"
     ]
    },
    {
     "name": "stderr",
     "output_type": "stream",
     "text": [
      "No data found for target \"TIC121791951\".\n"
     ]
    },
    {
     "name": "stdout",
     "output_type": "stream",
     "text": [
      "181 KIC10129425 TIC158322401\n",
      "182 KIC7033421 TIC63004671\n"
     ]
    },
    {
     "name": "stderr",
     "output_type": "stream",
     "text": [
      "No data found for target \"TIC63004671\".\n"
     ]
    },
    {
     "name": "stdout",
     "output_type": "stream",
     "text": [
      "183 KIC10394803 TIC158412765\n"
     ]
    },
    {
     "name": "stderr",
     "output_type": "stream",
     "text": [
      "No data found for target \"TIC158412765\".\n"
     ]
    },
    {
     "name": "stdout",
     "output_type": "stream",
     "text": [
      "184 KIC8416357 TIC164889773\n"
     ]
    },
    {
     "name": "stderr",
     "output_type": "stream",
     "text": [
      "No data found for target \"TIC164889773\".\n"
     ]
    },
    {
     "name": "stdout",
     "output_type": "stream",
     "text": [
      "185 KIC9716502 TIC271041315\n"
     ]
    },
    {
     "name": "stderr",
     "output_type": "stream",
     "text": [
      "No data found for target \"TIC271041315\".\n"
     ]
    },
    {
     "name": "stdout",
     "output_type": "stream",
     "text": [
      "186 KIC5651627 TIC172374895\n"
     ]
    },
    {
     "name": "stderr",
     "output_type": "stream",
     "text": [
      "No data found for target \"TIC172374895\".\n"
     ]
    },
    {
     "name": "stdout",
     "output_type": "stream",
     "text": [
      "187 KIC9970883 TIC268380762\n"
     ]
    },
    {
     "name": "stderr",
     "output_type": "stream",
     "text": [
      "No data found for target \"TIC268380762\".\n"
     ]
    },
    {
     "name": "stdout",
     "output_type": "stream",
     "text": [
      "188 KIC9007953 TIC158113609\n"
     ]
    },
    {
     "name": "stderr",
     "output_type": "stream",
     "text": [
      "No data found for target \"TIC158113609\".\n"
     ]
    },
    {
     "name": "stdout",
     "output_type": "stream",
     "text": [
      "189 KIC10785374 TIC399827186\n",
      "190 KIC9899193 TIC271424552\n"
     ]
    },
    {
     "name": "stderr",
     "output_type": "stream",
     "text": [
      "No data found for target \"TIC271424552\".\n"
     ]
    },
    {
     "name": "stdout",
     "output_type": "stream",
     "text": [
      "191 KIC5703160 TIC122712080\n"
     ]
    },
    {
     "name": "stderr",
     "output_type": "stream",
     "text": [
      "No data found for target \"TIC122712080\".\n"
     ]
    },
    {
     "name": "stdout",
     "output_type": "stream",
     "text": [
      "192 KIC7914816 TIC268299625\n"
     ]
    },
    {
     "name": "stderr",
     "output_type": "stream",
     "text": [
      "No data found for target \"TIC268299625\".\n"
     ]
    },
    {
     "name": "stdout",
     "output_type": "stream",
     "text": [
      "193 KIC7177589 TIC164413094\n"
     ]
    },
    {
     "name": "stderr",
     "output_type": "stream",
     "text": [
      "No data found for target \"TIC164413094\".\n"
     ]
    },
    {
     "name": "stdout",
     "output_type": "stream",
     "text": [
      "194 KIC9282882 TIC63363436\n",
      "195 KIC5807731 TIC184427915\n"
     ]
    },
    {
     "name": "stderr",
     "output_type": "stream",
     "text": [
      "No data found for target \"TIC184427915\".\n"
     ]
    },
    {
     "name": "stdout",
     "output_type": "stream",
     "text": [
      "196 KIC8322564 TIC268303870\n",
      "197 KIC9468247 TIC275489401\n"
     ]
    },
    {
     "name": "stderr",
     "output_type": "stream",
     "text": [
      "No data found for target \"TIC275489401\".\n"
     ]
    },
    {
     "name": "stdout",
     "output_type": "stream",
     "text": [
      "198 KIC2696734 TIC121083941\n"
     ]
    },
    {
     "name": "stderr",
     "output_type": "stream",
     "text": [
      "No data found for target \"TIC121083941\".\n"
     ]
    },
    {
     "name": "stdout",
     "output_type": "stream",
     "text": [
      "199 KIC3236385 TIC351058805\n"
     ]
    },
    {
     "name": "stderr",
     "output_type": "stream",
     "text": [
      "No data found for target \"TIC351058805\".\n"
     ]
    },
    {
     "name": "stdout",
     "output_type": "stream",
     "text": [
      "200 KIC5803540 TIC184008377\n"
     ]
    },
    {
     "name": "stderr",
     "output_type": "stream",
     "text": [
      "No data found for target \"TIC184008377\".\n"
     ]
    },
    {
     "name": "stdout",
     "output_type": "stream",
     "text": [
      "201 KIC9347066 TIC270698948\n"
     ]
    },
    {
     "name": "stderr",
     "output_type": "stream",
     "text": [
      "No data found for target \"TIC270698948\".\n"
     ]
    },
    {
     "name": "stdout",
     "output_type": "stream",
     "text": [
      "202 KIC8146507 TIC164459822\n"
     ]
    },
    {
     "name": "stderr",
     "output_type": "stream",
     "text": [
      "No data found for target \"TIC164459822\".\n"
     ]
    },
    {
     "name": "stdout",
     "output_type": "stream",
     "text": [
      "203 KIC6695363 TIC240185639\n"
     ]
    },
    {
     "name": "stderr",
     "output_type": "stream",
     "text": [
      "No data found for target \"TIC240185639\".\n"
     ]
    },
    {
     "name": "stdout",
     "output_type": "stream",
     "text": [
      "204 KIC6388011 TIC170251754\n"
     ]
    },
    {
     "name": "stderr",
     "output_type": "stream",
     "text": [
      "No data found for target \"TIC170251754\".\n"
     ]
    },
    {
     "name": "stdout",
     "output_type": "stream",
     "text": [
      "205 KIC2837133 TIC121276964\n",
      "206 KIC6442389 TIC137342304\n"
     ]
    },
    {
     "name": "stderr",
     "output_type": "stream",
     "text": [
      "No data found for target \"TIC137342304\".\n"
     ]
    },
    {
     "name": "stdout",
     "output_type": "stream",
     "text": [
      "207 KIC8935644 TIC164670612\n"
     ]
    },
    {
     "name": "stderr",
     "output_type": "stream",
     "text": [
      "No data found for target \"TIC164670612\".\n"
     ]
    },
    {
     "name": "stdout",
     "output_type": "stream",
     "text": [
      "208 KIC6293204 TIC138638653\n"
     ]
    },
    {
     "name": "stderr",
     "output_type": "stream",
     "text": [
      "No data found for target \"TIC138638653\".\n"
     ]
    },
    {
     "name": "stdout",
     "output_type": "stream",
     "text": [
      "209 KIC11873696 TIC27845847\n"
     ]
    },
    {
     "name": "stderr",
     "output_type": "stream",
     "text": [
      "No data found for target \"TIC27845847\".\n"
     ]
    },
    {
     "name": "stdout",
     "output_type": "stream",
     "text": [
      "210 KIC6290740 TIC138221966\n",
      "211 KIC3729742 TIC120628336\n"
     ]
    },
    {
     "name": "stderr",
     "output_type": "stream",
     "text": [
      "No data found for target \"TIC120628336\".\n"
     ]
    },
    {
     "name": "stdout",
     "output_type": "stream",
     "text": [
      "212 KIC10350396 TIC272078285\n"
     ]
    },
    {
     "name": "stderr",
     "output_type": "stream",
     "text": [
      "No data found for target \"TIC272078285\".\n"
     ]
    },
    {
     "name": "stdout",
     "output_type": "stream",
     "text": [
      "213 KIC5520896 TIC121329615\n"
     ]
    },
    {
     "name": "stderr",
     "output_type": "stream",
     "text": [
      "No data found for target \"TIC121329615\".\n"
     ]
    },
    {
     "name": "stdout",
     "output_type": "stream",
     "text": [
      "214 KIC5736188 TIC171882065\n"
     ]
    },
    {
     "name": "stderr",
     "output_type": "stream",
     "text": [
      "No data found for target \"TIC171882065\".\n"
     ]
    },
    {
     "name": "stdout",
     "output_type": "stream",
     "text": [
      "215 KIC8894525 TIC271352122\n"
     ]
    },
    {
     "name": "stderr",
     "output_type": "stream",
     "text": [
      "No data found for target \"TIC271352122\".\n"
     ]
    },
    {
     "name": "stdout",
     "output_type": "stream",
     "text": [
      "216 KIC7708454 TIC268486861\n"
     ]
    },
    {
     "name": "stderr",
     "output_type": "stream",
     "text": [
      "No data found for target \"TIC268486861\".\n"
     ]
    },
    {
     "name": "stdout",
     "output_type": "stream",
     "text": [
      "217 KIC4853320 TIC184419592\n"
     ]
    },
    {
     "name": "stderr",
     "output_type": "stream",
     "text": [
      "No data found for target \"TIC184419592\".\n"
     ]
    },
    {
     "name": "stdout",
     "output_type": "stream",
     "text": [
      "218 KIC11200213 TIC27773755\n"
     ]
    },
    {
     "name": "stderr",
     "output_type": "stream",
     "text": [
      "No data found for target \"TIC27773755\".\n"
     ]
    },
    {
     "name": "stdout",
     "output_type": "stream",
     "text": [
      "219 KIC7199013 TIC159717530\n"
     ]
    },
    {
     "name": "stderr",
     "output_type": "stream",
     "text": [
      "No data found for target \"TIC159717530\".\n"
     ]
    },
    {
     "name": "stdout",
     "output_type": "stream",
     "text": [
      "220 KIC11769856 TIC27396952\n"
     ]
    },
    {
     "name": "stderr",
     "output_type": "stream",
     "text": [
      "No data found for target \"TIC27396952\".\n"
     ]
    },
    {
     "name": "stdout",
     "output_type": "stream",
     "text": [
      "221 KIC7897915 TIC270860449\n"
     ]
    },
    {
     "name": "stderr",
     "output_type": "stream",
     "text": [
      "No data found for target \"TIC270860449\".\n"
     ]
    },
    {
     "name": "stdout",
     "output_type": "stream",
     "text": [
      "222 KIC4921578 TIC122714010\n",
      "223 KIC5090873 TIC121947148\n"
     ]
    },
    {
     "name": "stderr",
     "output_type": "stream",
     "text": [
      "No data found for target \"TIC121947148\".\n"
     ]
    },
    {
     "name": "stdout",
     "output_type": "stream",
     "text": [
      "224 KIC11284655 TIC267667537\n",
      "225 KIC6863158 TIC63006660\n"
     ]
    },
    {
     "name": "stderr",
     "output_type": "stream",
     "text": [
      "No data found for target \"TIC63006660\".\n"
     ]
    },
    {
     "name": "stdout",
     "output_type": "stream",
     "text": [
      "226 KIC4760952 TIC184089630\n"
     ]
    },
    {
     "name": "stderr",
     "output_type": "stream",
     "text": [
      "No data found for target \"TIC184089630\".\n"
     ]
    },
    {
     "name": "stdout",
     "output_type": "stream",
     "text": [
      "227 KIC7882003 TIC158726012\n"
     ]
    },
    {
     "name": "stderr",
     "output_type": "stream",
     "text": [
      "No data found for target \"TIC158726012\".\n"
     ]
    },
    {
     "name": "stdout",
     "output_type": "stream",
     "text": [
      "228 KIC12507868 TIC267673203\n",
      "229 KIC10016032 TIC270619467\n",
      "230 KIC4946469 TIC169458210\n"
     ]
    },
    {
     "name": "stderr",
     "output_type": "stream",
     "text": [
      "No data found for target \"TIC169458210\".\n"
     ]
    },
    {
     "name": "stdout",
     "output_type": "stream",
     "text": [
      "231 KIC11032019 TIC26751525\n"
     ]
    },
    {
     "name": "stderr",
     "output_type": "stream",
     "text": [
      "No data found for target \"TIC26751525\".\n"
     ]
    },
    {
     "name": "stdout",
     "output_type": "stream",
     "text": [
      "232 KIC6442378 TIC137342376\n"
     ]
    },
    {
     "name": "stderr",
     "output_type": "stream",
     "text": [
      "No data found for target \"TIC137342376\".\n"
     ]
    },
    {
     "name": "stdout",
     "output_type": "stream",
     "text": [
      "233 KIC8844761 TIC239276041\n"
     ]
    },
    {
     "name": "stderr",
     "output_type": "stream",
     "text": [
      "No data found for target \"TIC239276041\".\n"
     ]
    },
    {
     "name": "stdout",
     "output_type": "stream",
     "text": [
      "234 KIC7766241 TIC272176847\n"
     ]
    },
    {
     "name": "stderr",
     "output_type": "stream",
     "text": [
      "No data found for target \"TIC272176847\".\n"
     ]
    },
    {
     "name": "stdout",
     "output_type": "stream",
     "text": [
      "235 KIC10015569 TIC270517404\n"
     ]
    },
    {
     "name": "stderr",
     "output_type": "stream",
     "text": [
      "No data found for target \"TIC270517404\".\n"
     ]
    },
    {
     "name": "stdout",
     "output_type": "stream",
     "text": [
      "236 KIC7678417 TIC159377090\n"
     ]
    },
    {
     "name": "stderr",
     "output_type": "stream",
     "text": [
      "No data found for target \"TIC159377090\".\n"
     ]
    },
    {
     "name": "stdout",
     "output_type": "stream",
     "text": [
      "237 KIC6310107 TIC170652272\n",
      "238 KIC9289250 TIC271426590\n"
     ]
    },
    {
     "name": "stderr",
     "output_type": "stream",
     "text": [
      "No data found for target \"TIC271426590\".\n"
     ]
    },
    {
     "name": "stdout",
     "output_type": "stream",
     "text": [
      "239 KIC9117914 TIC239309561\n"
     ]
    },
    {
     "name": "stderr",
     "output_type": "stream",
     "text": [
      "No data found for target \"TIC239309561\".\n"
     ]
    },
    {
     "name": "stdout",
     "output_type": "stream",
     "text": [
      "240 KIC9579191 TIC158491428\n"
     ]
    },
    {
     "name": "stderr",
     "output_type": "stream",
     "text": [
      "No data found for target \"TIC158491428\".\n"
     ]
    },
    {
     "name": "stdout",
     "output_type": "stream",
     "text": [
      "241 KIC5437459 TIC121598939\n"
     ]
    },
    {
     "name": "stderr",
     "output_type": "stream",
     "text": [
      "No data found for target \"TIC121598939\".\n"
     ]
    },
    {
     "name": "stdout",
     "output_type": "stream",
     "text": [
      "242 KIC8644204 TIC273690159\n"
     ]
    },
    {
     "name": "stderr",
     "output_type": "stream",
     "text": [
      "No data found for target \"TIC273690159\".\n"
     ]
    },
    {
     "name": "stdout",
     "output_type": "stream",
     "text": [
      "243 KIC9885552 TIC159054092\n"
     ]
    },
    {
     "name": "stderr",
     "output_type": "stream",
     "text": [
      "No data found for target \"TIC159054092\".\n"
     ]
    },
    {
     "name": "stdout",
     "output_type": "stream",
     "text": [
      "244 KIC7816211 TIC159105715\n"
     ]
    },
    {
     "name": "stderr",
     "output_type": "stream",
     "text": [
      "No data found for target \"TIC159105715\".\n"
     ]
    },
    {
     "name": "stdout",
     "output_type": "stream",
     "text": [
      "245 KIC12603079 TIC417679508\n",
      "246 KIC3557836 TIC378083841\n"
     ]
    },
    {
     "name": "stderr",
     "output_type": "stream",
     "text": [
      "No data found for target \"TIC378083841\".\n"
     ]
    },
    {
     "name": "stdout",
     "output_type": "stream",
     "text": [
      "247 KIC8245328 TIC271969225\n"
     ]
    },
    {
     "name": "stderr",
     "output_type": "stream",
     "text": [
      "No data found for target \"TIC271969225\".\n"
     ]
    },
    {
     "name": "stdout",
     "output_type": "stream",
     "text": [
      "248 KIC10613792 TIC272841246\n"
     ]
    },
    {
     "name": "stderr",
     "output_type": "stream",
     "text": [
      "No data found for target \"TIC272841246\".\n"
     ]
    },
    {
     "name": "stdout",
     "output_type": "stream",
     "text": [
      "249 KIC12784578 TIC267744956\n"
     ]
    },
    {
     "name": "stderr",
     "output_type": "stream",
     "text": [
      "No data found for target \"TIC267744956\".\n"
     ]
    },
    {
     "name": "stdout",
     "output_type": "stream",
     "text": [
      "250 KIC12009504 TIC299218902\n",
      "251 KIC2156848 TIC122516443\n"
     ]
    },
    {
     "name": "stderr",
     "output_type": "stream",
     "text": [
      "No data found for target \"TIC122516443\".\n"
     ]
    },
    {
     "name": "stdout",
     "output_type": "stream",
     "text": [
      "252 KIC11515276 TIC27531488\n"
     ]
    },
    {
     "name": "stderr",
     "output_type": "stream",
     "text": [
      "No data found for target \"TIC27531488\".\n"
     ]
    },
    {
     "name": "stdout",
     "output_type": "stream",
     "text": [
      "253 KIC7954995 TIC159220432\n"
     ]
    },
    {
     "name": "stderr",
     "output_type": "stream",
     "text": [
      "No data found for target \"TIC159220432\".\n"
     ]
    },
    {
     "name": "stdout",
     "output_type": "stream",
     "text": [
      "254 KIC5027658 TIC184296206\n"
     ]
    },
    {
     "name": "stderr",
     "output_type": "stream",
     "text": [
      "No data found for target \"TIC184296206\".\n"
     ]
    },
    {
     "name": "stdout",
     "output_type": "stream",
     "text": [
      "255 KIC7662428 TIC164413746\n",
      "256 KIC4242491 TIC120424818\n"
     ]
    },
    {
     "name": "stderr",
     "output_type": "stream",
     "text": [
      "No data found for target \"TIC120424818\".\n"
     ]
    },
    {
     "name": "stdout",
     "output_type": "stream",
     "text": [
      "257 KIC10411806 TIC271167614\n"
     ]
    },
    {
     "name": "stderr",
     "output_type": "stream",
     "text": [
      "No data found for target \"TIC271167614\".\n"
     ]
    },
    {
     "name": "stdout",
     "output_type": "stream",
     "text": [
      "258 KIC12158399 TIC417678591\n",
      "259 KIC8036272 TIC271046775\n"
     ]
    },
    {
     "name": "stderr",
     "output_type": "stream",
     "text": [
      "No data found for target \"TIC271046775\".\n"
     ]
    },
    {
     "name": "stdout",
     "output_type": "stream",
     "text": [
      "260 KIC4072765 TIC184014093\n"
     ]
    },
    {
     "name": "stderr",
     "output_type": "stream",
     "text": [
      "No data found for target \"TIC184014093\".\n"
     ]
    },
    {
     "name": "stdout",
     "output_type": "stream",
     "text": [
      "261 KIC8165762 TIC63009779\n"
     ]
    },
    {
     "name": "stderr",
     "output_type": "stream",
     "text": [
      "No data found for target \"TIC63009779\".\n"
     ]
    },
    {
     "name": "stdout",
     "output_type": "stream",
     "text": [
      "262 KIC2837126 TIC121276991\n"
     ]
    },
    {
     "name": "stderr",
     "output_type": "stream",
     "text": [
      "No data found for target \"TIC121276991\".\n"
     ]
    },
    {
     "name": "stdout",
     "output_type": "stream",
     "text": [
      "263 KIC9527035 TIC63129347\n"
     ]
    },
    {
     "name": "stderr",
     "output_type": "stream",
     "text": [
      "No data found for target \"TIC63129347\".\n"
     ]
    },
    {
     "name": "stdout",
     "output_type": "stream",
     "text": [
      "264 KIC2692672 TIC120629843\n"
     ]
    },
    {
     "name": "stderr",
     "output_type": "stream",
     "text": [
      "No data found for target \"TIC120629843\".\n"
     ]
    },
    {
     "name": "stdout",
     "output_type": "stream",
     "text": [
      "265 KIC6370632 TIC138430675\n"
     ]
    },
    {
     "name": "stderr",
     "output_type": "stream",
     "text": [
      "No data found for target \"TIC138430675\".\n"
     ]
    },
    {
     "name": "stdout",
     "output_type": "stream",
     "text": [
      "266 KIC8446325 TIC272939683\n"
     ]
    },
    {
     "name": "stderr",
     "output_type": "stream",
     "text": [
      "No data found for target \"TIC272939683\".\n"
     ]
    },
    {
     "name": "stdout",
     "output_type": "stream",
     "text": [
      "267 KIC10483427 TIC272598162\n"
     ]
    },
    {
     "name": "stderr",
     "output_type": "stream",
     "text": [
      "No data found for target \"TIC272598162\".\n"
     ]
    },
    {
     "name": "stdout",
     "output_type": "stream",
     "text": [
      "268 KIC10259462 TIC164833828\n",
      "269 KIC11342399 TIC399954026\n"
     ]
    },
    {
     "name": "stderr",
     "output_type": "stream",
     "text": [
      "No data found for target \"TIC399954026\".\n"
     ]
    },
    {
     "name": "stdout",
     "output_type": "stream",
     "text": [
      "270 KIC8302223 TIC63449077\n"
     ]
    },
    {
     "name": "stderr",
     "output_type": "stream",
     "text": [
      "No data found for target \"TIC63449077\".\n"
     ]
    },
    {
     "name": "stdout",
     "output_type": "stream",
     "text": [
      "271 KIC10482948 TIC272598271\n"
     ]
    },
    {
     "name": "stderr",
     "output_type": "stream",
     "text": [
      "No data found for target \"TIC272598271\".\n"
     ]
    },
    {
     "name": "stdout",
     "output_type": "stream",
     "text": [
      "272 KIC4489036 TIC169456067\n"
     ]
    },
    {
     "name": "stderr",
     "output_type": "stream",
     "text": [
      "No data found for target \"TIC169456067\".\n"
     ]
    },
    {
     "name": "stdout",
     "output_type": "stream",
     "text": [
      "273 KIC2450531 TIC137977773\n"
     ]
    },
    {
     "name": "stderr",
     "output_type": "stream",
     "text": [
      "No data found for target \"TIC137977773\".\n"
     ]
    },
    {
     "name": "stdout",
     "output_type": "stream",
     "text": [
      "274 KIC11461767 TIC27390507\n"
     ]
    },
    {
     "name": "stderr",
     "output_type": "stream",
     "text": [
      "No data found for target \"TIC27390507\".\n"
     ]
    },
    {
     "name": "stdout",
     "output_type": "stream",
     "text": [
      "275 KIC3534605 TIC121656782\n"
     ]
    },
    {
     "name": "stderr",
     "output_type": "stream",
     "text": [
      "No data found for target \"TIC121656782\".\n"
     ]
    },
    {
     "name": "stdout",
     "output_type": "stream",
     "text": [
      "276 KIC10005772 TIC159051232\n"
     ]
    },
    {
     "name": "stderr",
     "output_type": "stream",
     "text": [
      "No data found for target \"TIC159051232\".\n"
     ]
    },
    {
     "name": "stdout",
     "output_type": "stream",
     "text": [
      "277 KIC2692704 TIC120629872\n",
      "278 KIC3749348 TIC137402084\n"
     ]
    },
    {
     "name": "stderr",
     "output_type": "stream",
     "text": [
      "No data found for target \"TIC137402084\".\n"
     ]
    },
    {
     "name": "stdout",
     "output_type": "stream",
     "text": [
      "279 KIC10527793 TIC158839311\n"
     ]
    },
    {
     "name": "stderr",
     "output_type": "stream",
     "text": [
      "No data found for target \"TIC158839311\".\n"
     ]
    },
    {
     "name": "stdout",
     "output_type": "stream",
     "text": [
      "280 KIC9696331 TIC164781108\n"
     ]
    },
    {
     "name": "stderr",
     "output_type": "stream",
     "text": [
      "No data found for target \"TIC164781108\".\n"
     ]
    },
    {
     "name": "stdout",
     "output_type": "stream",
     "text": [
      "281 KIC4544623 TIC120684614\n"
     ]
    },
    {
     "name": "stderr",
     "output_type": "stream",
     "text": [
      "No data found for target \"TIC120684614\".\n"
     ]
    },
    {
     "name": "stdout",
     "output_type": "stream",
     "text": [
      "282 KIC2162268 TIC351054992\n"
     ]
    },
    {
     "name": "stderr",
     "output_type": "stream",
     "text": [
      "No data found for target \"TIC351054992\".\n"
     ]
    },
    {
     "name": "stdout",
     "output_type": "stream",
     "text": [
      "283 KIC12155948 TIC416266231\n",
      "284 KIC7766294 TIC272176804\n"
     ]
    },
    {
     "name": "stderr",
     "output_type": "stream",
     "text": [
      "No data found for target \"TIC272176804\".\n"
     ]
    },
    {
     "name": "stdout",
     "output_type": "stream",
     "text": [
      "285 KIC1996721 TIC120890382\n",
      "286 KIC10794405 TIC290035579\n"
     ]
    },
    {
     "name": "stderr",
     "output_type": "stream",
     "text": [
      "No data found for target \"TIC290035579\".\n"
     ]
    },
    {
     "name": "stdout",
     "output_type": "stream",
     "text": [
      "287 KIC7879384 TIC158389986\n"
     ]
    },
    {
     "name": "stderr",
     "output_type": "stream",
     "text": [
      "No data found for target \"TIC158389986\".\n"
     ]
    },
    {
     "name": "stdout",
     "output_type": "stream",
     "text": [
      "288 KIC8454322 TIC268607906\n"
     ]
    },
    {
     "name": "stderr",
     "output_type": "stream",
     "text": [
      "No data found for target \"TIC268607906\".\n"
     ]
    },
    {
     "name": "stdout",
     "output_type": "stream",
     "text": [
      "289 KIC9955316 TIC270619213\n"
     ]
    },
    {
     "name": "stderr",
     "output_type": "stream",
     "text": [
      "No data found for target \"TIC270619213\".\n"
     ]
    },
    {
     "name": "stdout",
     "output_type": "stream",
     "text": [
      "290 KIC12784208 TIC267673971\n"
     ]
    },
    {
     "name": "stderr",
     "output_type": "stream",
     "text": [
      "No data found for target \"TIC267673971\".\n"
     ]
    },
    {
     "name": "stdout",
     "output_type": "stream",
     "text": [
      "291 KIC8235498 TIC63366156\n",
      "292 KIC12207153 TIC290032667\n"
     ]
    },
    {
     "name": "stderr",
     "output_type": "stream",
     "text": [
      "No data found for target \"TIC290032667\".\n"
     ]
    },
    {
     "name": "stdout",
     "output_type": "stream",
     "text": [
      "293 KIC5689517 TIC120767822\n"
     ]
    },
    {
     "name": "stderr",
     "output_type": "stream",
     "text": [
      "No data found for target \"TIC120767822\".\n"
     ]
    },
    {
     "name": "stdout",
     "output_type": "stream",
     "text": [
      "294 KIC5197666 TIC378088798\n"
     ]
    },
    {
     "name": "stderr",
     "output_type": "stream",
     "text": [
      "No data found for target \"TIC378088798\".\n"
     ]
    },
    {
     "name": "stdout",
     "output_type": "stream",
     "text": [
      "295 KIC11404836 TIC26748604\n"
     ]
    },
    {
     "name": "stderr",
     "output_type": "stream",
     "text": [
      "No data found for target \"TIC26748604\".\n"
     ]
    },
    {
     "name": "stdout",
     "output_type": "stream",
     "text": [
      "296 KIC10748312 TIC28230896\n"
     ]
    },
    {
     "name": "stderr",
     "output_type": "stream",
     "text": [
      "No data found for target \"TIC28230896\".\n"
     ]
    },
    {
     "name": "stdout",
     "output_type": "stream",
     "text": [
      "297 KIC7760730 TIC271047747\n"
     ]
    },
    {
     "name": "stderr",
     "output_type": "stream",
     "text": [
      "No data found for target \"TIC271047747\".\n"
     ]
    },
    {
     "name": "stdout",
     "output_type": "stream",
     "text": [
      "298 KIC10014558 TIC275488103\n"
     ]
    },
    {
     "name": "stderr",
     "output_type": "stream",
     "text": [
      "No data found for target \"TIC275488103\".\n"
     ]
    },
    {
     "name": "stdout",
     "output_type": "stream",
     "text": [
      "299 KIC4175398 TIC184087603\n",
      "300 KIC10355856 TIC273374778\n",
      "301 KIC11973975 TIC27911953\n"
     ]
    },
    {
     "name": "stderr",
     "output_type": "stream",
     "text": [
      "No data found for target \"TIC27911953\".\n"
     ]
    },
    {
     "name": "stdout",
     "output_type": "stream",
     "text": [
      "302 KIC5027600 TIC184246988\n"
     ]
    },
    {
     "name": "stderr",
     "output_type": "stream",
     "text": [
      "No data found for target \"TIC184246988\".\n"
     ]
    },
    {
     "name": "stdout",
     "output_type": "stream",
     "text": [
      "303 KIC6889274 TIC274031107\n"
     ]
    },
    {
     "name": "stderr",
     "output_type": "stream",
     "text": [
      "No data found for target \"TIC274031107\".\n"
     ]
    },
    {
     "name": "stdout",
     "output_type": "stream",
     "text": [
      "304 KIC6146008 TIC169819123\n"
     ]
    },
    {
     "name": "stderr",
     "output_type": "stream",
     "text": [
      "No data found for target \"TIC169819123\".\n"
     ]
    },
    {
     "name": "stdout",
     "output_type": "stream",
     "text": [
      "305 KIC4144238 TIC121393797\n"
     ]
    },
    {
     "name": "stderr",
     "output_type": "stream",
     "text": [
      "No data found for target \"TIC121393797\".\n"
     ]
    },
    {
     "name": "stdout",
     "output_type": "stream",
     "text": [
      "306 KIC4049158 TIC121988914\n"
     ]
    },
    {
     "name": "stderr",
     "output_type": "stream",
     "text": [
      "No data found for target \"TIC121988914\".\n"
     ]
    },
    {
     "name": "stdout",
     "output_type": "stream",
     "text": [
      "307 KIC7264976 TIC352010368\n"
     ]
    },
    {
     "name": "stderr",
     "output_type": "stream",
     "text": [
      "No data found for target \"TIC352010368\".\n"
     ]
    },
    {
     "name": "stdout",
     "output_type": "stream",
     "text": [
      "308 KIC12366719 TIC27695477\n"
     ]
    },
    {
     "name": "stderr",
     "output_type": "stream",
     "text": [
      "No data found for target \"TIC27695477\".\n"
     ]
    },
    {
     "name": "stdout",
     "output_type": "stream",
     "text": [
      "309 KIC11135108 TIC290034953\n"
     ]
    },
    {
     "name": "stderr",
     "output_type": "stream",
     "text": [
      "No data found for target \"TIC290034953\".\n"
     ]
    },
    {
     "name": "stdout",
     "output_type": "stream",
     "text": [
      "310 KIC6032666 TIC121729613\n"
     ]
    },
    {
     "name": "stderr",
     "output_type": "stream",
     "text": [
      "No data found for target \"TIC121729613\".\n"
     ]
    },
    {
     "name": "stdout",
     "output_type": "stream",
     "text": [
      "311 KIC8285312 TIC352012006\n"
     ]
    },
    {
     "name": "stderr",
     "output_type": "stream",
     "text": [
      "No data found for target \"TIC352012006\".\n"
     ]
    },
    {
     "name": "stdout",
     "output_type": "stream",
     "text": [
      "312 KIC11244453 TIC26584061\n"
     ]
    },
    {
     "name": "stderr",
     "output_type": "stream",
     "text": [
      "No data found for target \"TIC26584061\".\n"
     ]
    },
    {
     "name": "stdout",
     "output_type": "stream",
     "text": [
      "313 KIC4160250 TIC137551815\n"
     ]
    },
    {
     "name": "stderr",
     "output_type": "stream",
     "text": [
      "No data found for target \"TIC137551815\".\n"
     ]
    },
    {
     "name": "stdout",
     "output_type": "stream",
     "text": [
      "314 KIC7090649 TIC123201162\n"
     ]
    },
    {
     "name": "stderr",
     "output_type": "stream",
     "text": [
      "No data found for target \"TIC123201162\".\n"
     ]
    },
    {
     "name": "stdout",
     "output_type": "stream",
     "text": [
      "315 KIC8957023 TIC275574079\n",
      "316 KIC8700573 TIC272071985\n"
     ]
    },
    {
     "name": "stderr",
     "output_type": "stream",
     "text": [
      "No data found for target \"TIC272071985\".\n"
     ]
    },
    {
     "name": "stdout",
     "output_type": "stream",
     "text": [
      "317 KIC11026925 TIC407001891\n"
     ]
    },
    {
     "name": "stderr",
     "output_type": "stream",
     "text": [
      "No data found for target \"TIC407001891\".\n"
     ]
    },
    {
     "name": "stdout",
     "output_type": "stream",
     "text": [
      "318 KIC12506434 TIC299097278\n"
     ]
    },
    {
     "name": "stderr",
     "output_type": "stream",
     "text": [
      "No data found for target \"TIC299097278\".\n"
     ]
    },
    {
     "name": "stdout",
     "output_type": "stream",
     "text": [
      "319 KIC10610121 TIC27645331\n"
     ]
    },
    {
     "name": "stderr",
     "output_type": "stream",
     "text": [
      "No data found for target \"TIC27645331\".\n"
     ]
    },
    {
     "name": "stdout",
     "output_type": "stream",
     "text": [
      "320 KIC10350419 TIC272078312\n",
      "321 KIC4459146 TIC122227016\n"
     ]
    },
    {
     "name": "stderr",
     "output_type": "stream",
     "text": [
      "No data found for target \"TIC122227016\".\n"
     ]
    },
    {
     "name": "stdout",
     "output_type": "stream",
     "text": [
      "322 KIC5094301 TIC122300895\n",
      "323 KIC12004955 TIC399825114\n"
     ]
    },
    {
     "name": "stderr",
     "output_type": "stream",
     "text": [
      "No data found for target \"TIC399825114\".\n"
     ]
    },
    {
     "name": "stdout",
     "output_type": "stream",
     "text": [
      "324 KIC6123381 TIC351071981\n"
     ]
    },
    {
     "name": "stderr",
     "output_type": "stream",
     "text": [
      "No data found for target \"TIC351071981\".\n"
     ]
    },
    {
     "name": "stdout",
     "output_type": "stream",
     "text": [
      "325 KIC12018656 TIC27232055\n"
     ]
    },
    {
     "name": "stderr",
     "output_type": "stream",
     "text": [
      "No data found for target \"TIC27232055\".\n"
     ]
    },
    {
     "name": "stdout",
     "output_type": "stream",
     "text": [
      "326 KIC7199351 TIC159767208\n"
     ]
    },
    {
     "name": "stderr",
     "output_type": "stream",
     "text": [
      "No data found for target \"TIC159767208\".\n"
     ]
    },
    {
     "name": "stdout",
     "output_type": "stream",
     "text": [
      "327 KIC10789964 TIC299032942\n",
      "328 KIC6669790 TIC164646290\n"
     ]
    },
    {
     "name": "stderr",
     "output_type": "stream",
     "text": [
      "No data found for target \"TIC164646290\".\n"
     ]
    },
    {
     "name": "stdout",
     "output_type": "stream",
     "text": [
      "329 KIC8189299 TIC268302452\n"
     ]
    },
    {
     "name": "stderr",
     "output_type": "stream",
     "text": [
      "No data found for target \"TIC268302452\".\n"
     ]
    },
    {
     "name": "stdout",
     "output_type": "stream",
     "text": [
      "330 KIC12056558 TIC298969209\n"
     ]
    },
    {
     "name": "stderr",
     "output_type": "stream",
     "text": [
      "No data found for target \"TIC298969209\".\n"
     ]
    },
    {
     "name": "stdout",
     "output_type": "stream",
     "text": [
      "331 KIC9026472 TIC270520275\n",
      "332 KIC7548035 TIC272943796\n"
     ]
    },
    {
     "name": "stderr",
     "output_type": "stream",
     "text": [
      "No data found for target \"TIC272943796\".\n"
     ]
    },
    {
     "name": "stdout",
     "output_type": "stream",
     "text": [
      "333 KIC10079226 TIC270517307\n",
      "334 KIC6442367 TIC137342302\n"
     ]
    },
    {
     "name": "stderr",
     "output_type": "stream",
     "text": [
      "No data found for target \"TIC137342302\".\n"
     ]
    },
    {
     "name": "stdout",
     "output_type": "stream",
     "text": [
      "335 KIC9333505 TIC158559688\n",
      "336 KIC10482821 TIC272281165\n"
     ]
    },
    {
     "name": "stderr",
     "output_type": "stream",
     "text": [
      "No data found for target \"TIC272281165\".\n"
     ]
    },
    {
     "name": "stdout",
     "output_type": "stream",
     "text": [
      "337 KIC6307013 TIC169466388\n"
     ]
    },
    {
     "name": "stderr",
     "output_type": "stream",
     "text": [
      "No data found for target \"TIC169466388\".\n"
     ]
    },
    {
     "name": "stdout",
     "output_type": "stream",
     "text": [
      "338 KIC11465855 TIC351191410\n"
     ]
    },
    {
     "name": "stderr",
     "output_type": "stream",
     "text": [
      "No data found for target \"TIC351191410\".\n"
     ]
    },
    {
     "name": "stdout",
     "output_type": "stream",
     "text": [
      "339 KIC12316635 TIC27778168\n",
      "340 KIC12646458 TIC267745242\n",
      "341 KIC6945017 TIC159447406\n"
     ]
    },
    {
     "name": "stderr",
     "output_type": "stream",
     "text": [
      "No data found for target \"TIC159447406\".\n"
     ]
    },
    {
     "name": "stdout",
     "output_type": "stream",
     "text": [
      "342 KIC11823775 TIC27846077\n"
     ]
    },
    {
     "name": "stderr",
     "output_type": "stream",
     "text": [
      "No data found for target \"TIC27846077\".\n"
     ]
    },
    {
     "name": "stdout",
     "output_type": "stream",
     "text": [
      "343 KIC6204758 TIC137341583\n"
     ]
    },
    {
     "name": "stderr",
     "output_type": "stream",
     "text": [
      "No data found for target \"TIC137341583\".\n"
     ]
    },
    {
     "name": "stdout",
     "output_type": "stream",
     "text": [
      "344 KIC7610128 TIC63367836\n"
     ]
    },
    {
     "name": "stderr",
     "output_type": "stream",
     "text": [
      "No data found for target \"TIC63367836\".\n"
     ]
    },
    {
     "name": "stdout",
     "output_type": "stream",
     "text": [
      "345 KIC4245945 TIC120893534\n"
     ]
    },
    {
     "name": "stderr",
     "output_type": "stream",
     "text": [
      "No data found for target \"TIC120893534\".\n"
     ]
    },
    {
     "name": "stdout",
     "output_type": "stream",
     "text": [
      "346 KIC10818583 TIC416528984\n"
     ]
    },
    {
     "name": "stderr",
     "output_type": "stream",
     "text": [
      "No data found for target \"TIC416528984\".\n"
     ]
    },
    {
     "name": "stdout",
     "output_type": "stream",
     "text": [
      "347 KIC11714279 TIC26657000\n"
     ]
    },
    {
     "name": "stderr",
     "output_type": "stream",
     "text": [
      "No data found for target \"TIC26657000\".\n"
     ]
    },
    {
     "name": "stdout",
     "output_type": "stream",
     "text": [
      "348 KIC10068507 TIC158983345\n"
     ]
    },
    {
     "name": "stderr",
     "output_type": "stream",
     "text": [
      "No data found for target \"TIC158983345\".\n"
     ]
    },
    {
     "name": "stdout",
     "output_type": "stream",
     "text": [
      "349 KIC11970698 TIC27455407\n"
     ]
    },
    {
     "name": "stderr",
     "output_type": "stream",
     "text": [
      "No data found for target \"TIC27455407\".\n"
     ]
    },
    {
     "name": "stdout",
     "output_type": "stream",
     "text": [
      "350 KIC8935655 TIC164670606\n",
      "351 KIC6285677 TIC137408433\n",
      "352 KIC11600907 TIC405688132\n"
     ]
    },
    {
     "name": "stderr",
     "output_type": "stream",
     "text": [
      "No data found for target \"TIC405688132\".\n"
     ]
    },
    {
     "name": "stdout",
     "output_type": "stream",
     "text": [
      "353 KIC4770707 TIC169561298\n",
      "354 KIC11295382 TIC417676649\n"
     ]
    },
    {
     "name": "stderr",
     "output_type": "stream",
     "text": [
      "No data found for target \"TIC417676649\".\n"
     ]
    },
    {
     "name": "stdout",
     "output_type": "stream",
     "text": [
      "355 KIC9827094 TIC159301242\n"
     ]
    },
    {
     "name": "stderr",
     "output_type": "stream",
     "text": [
      "No data found for target \"TIC159301242\".\n"
     ]
    },
    {
     "name": "stdout",
     "output_type": "stream",
     "text": [
      "356 KIC11200185 TIC27773745\n",
      "357 KIC11498538 TIC399867682\n",
      "358 KIC3329643 TIC121395047\n"
     ]
    },
    {
     "name": "stderr",
     "output_type": "stream",
     "text": [
      "No data found for target \"TIC121395047\".\n"
     ]
    },
    {
     "name": "stdout",
     "output_type": "stream",
     "text": [
      "359 KIC3345693 TIC137549603\n"
     ]
    },
    {
     "name": "stderr",
     "output_type": "stream",
     "text": [
      "No data found for target \"TIC137549603\".\n"
     ]
    },
    {
     "name": "stdout",
     "output_type": "stream",
     "text": [
      "360 KIC6679442 TIC158632915\n"
     ]
    },
    {
     "name": "stderr",
     "output_type": "stream",
     "text": [
      "No data found for target \"TIC158632915\".\n"
     ]
    },
    {
     "name": "stdout",
     "output_type": "stream",
     "text": [
      "361 KIC7090654 TIC123201168\n",
      "362 KIC10750109 TIC28359792\n"
     ]
    },
    {
     "name": "stderr",
     "output_type": "stream",
     "text": [
      "No data found for target \"TIC28359792\".\n"
     ]
    },
    {
     "name": "stdout",
     "output_type": "stream",
     "text": [
      "363 KIC9786062 TIC273372356\n"
     ]
    },
    {
     "name": "stderr",
     "output_type": "stream",
     "text": [
      "No data found for target \"TIC273372356\".\n"
     ]
    },
    {
     "name": "stdout",
     "output_type": "stream",
     "text": [
      "364 KIC8935630 TIC164670595\n"
     ]
    },
    {
     "name": "stderr",
     "output_type": "stream",
     "text": [
      "No data found for target \"TIC164670595\".\n"
     ]
    },
    {
     "name": "stdout",
     "output_type": "stream",
     "text": [
      "365 KIC10785357 TIC243273259\n"
     ]
    },
    {
     "name": "stderr",
     "output_type": "stream",
     "text": [
      "No data found for target \"TIC243273259\".\n"
     ]
    },
    {
     "name": "stdout",
     "output_type": "stream",
     "text": [
      "366 KIC10119471 TIC123310578\n"
     ]
    },
    {
     "name": "stderr",
     "output_type": "stream",
     "text": [
      "No data found for target \"TIC123310578\".\n"
     ]
    },
    {
     "name": "stdout",
     "output_type": "stream",
     "text": [
      "367 KIC5812654 TIC169461844\n"
     ]
    },
    {
     "name": "stderr",
     "output_type": "stream",
     "text": [
      "No data found for target \"TIC169461844\".\n"
     ]
    },
    {
     "name": "stdout",
     "output_type": "stream",
     "text": [
      "368 KIC5385792 TIC169815697\n"
     ]
    },
    {
     "name": "stderr",
     "output_type": "stream",
     "text": [
      "No data found for target \"TIC169815697\".\n"
     ]
    },
    {
     "name": "stdout",
     "output_type": "stream",
     "text": [
      "369 KIC7700709 TIC273035147\n"
     ]
    },
    {
     "name": "stderr",
     "output_type": "stream",
     "text": [
      "No data found for target \"TIC273035147\".\n"
     ]
    },
    {
     "name": "stdout",
     "output_type": "stream",
     "text": [
      "370 KIC10006542 TIC159172010\n",
      "371 KIC5648400 TIC171097811\n"
     ]
    },
    {
     "name": "stderr",
     "output_type": "stream",
     "text": [
      "No data found for target \"TIC171097811\".\n"
     ]
    },
    {
     "name": "stdout",
     "output_type": "stream",
     "text": [
      "372 KIC8045129 TIC272941440\n"
     ]
    },
    {
     "name": "stderr",
     "output_type": "stream",
     "text": [
      "No data found for target \"TIC272941440\".\n"
     ]
    },
    {
     "name": "stdout",
     "output_type": "stream",
     "text": [
      "373 KIC11234457 TIC243272477\n"
     ]
    },
    {
     "name": "stderr",
     "output_type": "stream",
     "text": [
      "No data found for target \"TIC243272477\".\n"
     ]
    },
    {
     "name": "stdout",
     "output_type": "stream",
     "text": [
      "374 KIC7766271 TIC272176810\n"
     ]
    },
    {
     "name": "stderr",
     "output_type": "stream",
     "text": [
      "No data found for target \"TIC272176810\".\n"
     ]
    },
    {
     "name": "stdout",
     "output_type": "stream",
     "text": [
      "375 KIC10964344 TIC350812983\n",
      "376 KIC4914882 TIC121941187\n"
     ]
    },
    {
     "name": "stderr",
     "output_type": "stream",
     "text": [
      "No data found for target \"TIC121941187\".\n"
     ]
    },
    {
     "name": "stdout",
     "output_type": "stream",
     "text": [
      "377 KIC10485184 TIC273046708\n"
     ]
    },
    {
     "name": "stderr",
     "output_type": "stream",
     "text": [
      "No data found for target \"TIC273046708\".\n"
     ]
    },
    {
     "name": "stdout",
     "output_type": "stream",
     "text": [
      "378 KIC9786893 TIC273379449\n"
     ]
    },
    {
     "name": "stderr",
     "output_type": "stream",
     "text": [
      "No data found for target \"TIC273379449\".\n"
     ]
    },
    {
     "name": "stdout",
     "output_type": "stream",
     "text": [
      "379 KIC7199037 TIC159717485\n"
     ]
    },
    {
     "name": "stderr",
     "output_type": "stream",
     "text": [
      "No data found for target \"TIC159717485\".\n"
     ]
    },
    {
     "name": "stdout",
     "output_type": "stream",
     "text": [
      "380 KIC8574423 TIC272720008\n"
     ]
    },
    {
     "name": "stderr",
     "output_type": "stream",
     "text": [
      "No data found for target \"TIC272720008\".\n"
     ]
    },
    {
     "name": "stdout",
     "output_type": "stream",
     "text": [
      "381 KIC8608348 TIC164671139\n"
     ]
    },
    {
     "name": "stderr",
     "output_type": "stream",
     "text": [
      "No data found for target \"TIC164671139\".\n"
     ]
    },
    {
     "name": "stdout",
     "output_type": "stream",
     "text": [
      "382 KIC4249145 TIC121327452\n",
      "383 KIC8176536 TIC271668166\n"
     ]
    },
    {
     "name": "stderr",
     "output_type": "stream",
     "text": [
      "No data found for target \"TIC271668166\".\n"
     ]
    },
    {
     "name": "stdout",
     "output_type": "stream",
     "text": [
      "384 KIC5530974 TIC122707726\n"
     ]
    },
    {
     "name": "stderr",
     "output_type": "stream",
     "text": [
      "No data found for target \"TIC122707726\".\n"
     ]
    },
    {
     "name": "stdout",
     "output_type": "stream",
     "text": [
      "385 KIC11033086 TIC26960277\n"
     ]
    },
    {
     "name": "stderr",
     "output_type": "stream",
     "text": [
      "No data found for target \"TIC26960277\".\n"
     ]
    },
    {
     "name": "stdout",
     "output_type": "stream",
     "text": [
      "386 KIC11029516 TIC26538131\n",
      "387 KIC8760445 TIC271044324\n"
     ]
    },
    {
     "name": "stderr",
     "output_type": "stream",
     "text": [
      "No data found for target \"TIC271044324\".\n"
     ]
    },
    {
     "name": "stdout",
     "output_type": "stream",
     "text": [
      "388 KIC4761046 TIC184089709\n"
     ]
    },
    {
     "name": "stderr",
     "output_type": "stream",
     "text": [
      "No data found for target \"TIC184089709\".\n"
     ]
    },
    {
     "name": "stdout",
     "output_type": "stream",
     "text": [
      "389 KIC10801344 TIC26960890\n"
     ]
    },
    {
     "name": "stderr",
     "output_type": "stream",
     "text": [
      "No data found for target \"TIC26960890\".\n"
     ]
    },
    {
     "name": "stdout",
     "output_type": "stream",
     "text": [
      "390 KIC5398063 TIC39893142\n"
     ]
    },
    {
     "name": "stderr",
     "output_type": "stream",
     "text": [
      "No data found for target \"TIC39893142\".\n"
     ]
    },
    {
     "name": "stdout",
     "output_type": "stream",
     "text": [
      "391 KIC6679451 TIC158632882\n"
     ]
    },
    {
     "name": "stderr",
     "output_type": "stream",
     "text": [
      "No data found for target \"TIC158632882\".\n"
     ]
    },
    {
     "name": "stdout",
     "output_type": "stream",
     "text": [
      "392 KIC8738229 TIC164726320\n"
     ]
    },
    {
     "name": "stderr",
     "output_type": "stream",
     "text": [
      "No data found for target \"TIC164726320\".\n"
     ]
    },
    {
     "name": "stdout",
     "output_type": "stream",
     "text": [
      "393 KIC9753740 TIC123495695\n"
     ]
    },
    {
     "name": "stderr",
     "output_type": "stream",
     "text": [
      "No data found for target \"TIC123495695\".\n"
     ]
    },
    {
     "name": "stdout",
     "output_type": "stream",
     "text": [
      "394 KIC10016239 TIC270696968\n",
      "395 KIC11516240 TIC27648539\n"
     ]
    },
    {
     "name": "stderr",
     "output_type": "stream",
     "text": [
      "No data found for target \"TIC27648539\".\n"
     ]
    },
    {
     "name": "stdout",
     "output_type": "stream",
     "text": [
      "396 KIC12418959 TIC27843903\n",
      "397 KIC3328418 TIC121213778\n"
     ]
    },
    {
     "name": "stderr",
     "output_type": "stream",
     "text": [
      "No data found for target \"TIC121213778\".\n"
     ]
    },
    {
     "name": "stdout",
     "output_type": "stream",
     "text": [
      "398 KIC8264548 TIC185058205\n"
     ]
    },
    {
     "name": "stderr",
     "output_type": "stream",
     "text": [
      "No data found for target \"TIC185058205\".\n"
     ]
    },
    {
     "name": "stdout",
     "output_type": "stream",
     "text": [
      "399 KIC10453357 TIC164557732\n"
     ]
    },
    {
     "name": "stderr",
     "output_type": "stream",
     "text": [
      "No data found for target \"TIC164557732\".\n"
     ]
    },
    {
     "name": "stdout",
     "output_type": "stream",
     "text": [
      "400 KIC2847416 TIC122375663\n"
     ]
    },
    {
     "name": "stderr",
     "output_type": "stream",
     "text": [
      "No data found for target \"TIC122375663\".\n"
     ]
    },
    {
     "name": "stdout",
     "output_type": "stream",
     "text": [
      "401 KIC11763820 TIC424814835\n",
      "402 KIC7103006 TIC158317151\n",
      "403 KIC5397064 TIC172769303\n",
      "404 KIC8760461 TIC271044311\n"
     ]
    },
    {
     "name": "stderr",
     "output_type": "stream",
     "text": [
      "No data found for target \"TIC271044311\".\n"
     ]
    },
    {
     "name": "stdout",
     "output_type": "stream",
     "text": [
      "405 KIC9264619 TIC164523042\n",
      "406 KIC9392694 TIC158173343\n"
     ]
    },
    {
     "name": "stderr",
     "output_type": "stream",
     "text": [
      "No data found for target \"TIC158173343\".\n"
     ]
    },
    {
     "name": "stdout",
     "output_type": "stream",
     "text": [
      "407 KIC11295395 TIC417676636\n"
     ]
    },
    {
     "name": "stderr",
     "output_type": "stream",
     "text": [
      "No data found for target \"TIC417676636\".\n"
     ]
    },
    {
     "name": "stdout",
     "output_type": "stream",
     "text": [
      "408 KIC11031746 TIC26749607\n"
     ]
    },
    {
     "name": "stderr",
     "output_type": "stream",
     "text": [
      "No data found for target \"TIC26749607\".\n"
     ]
    },
    {
     "name": "stdout",
     "output_type": "stream",
     "text": [
      "409 KIC9893496 TIC240178277\n",
      "410 KIC11295383 TIC417676629\n"
     ]
    },
    {
     "name": "stderr",
     "output_type": "stream",
     "text": [
      "No data found for target \"TIC417676629\".\n"
     ]
    },
    {
     "name": "stdout",
     "output_type": "stream",
     "text": [
      "411 KIC9655172 TIC270957485\n"
     ]
    },
    {
     "name": "stderr",
     "output_type": "stream",
     "text": [
      "No data found for target \"TIC270957485\".\n"
     ]
    },
    {
     "name": "stdout",
     "output_type": "stream",
     "text": [
      "412 KIC11393383 TIC243272106\n"
     ]
    },
    {
     "name": "stderr",
     "output_type": "stream",
     "text": [
      "No data found for target \"TIC243272106\".\n"
     ]
    },
    {
     "name": "stdout",
     "output_type": "stream",
     "text": [
      "413 KIC4284458 TIC184555203\n"
     ]
    },
    {
     "name": "stderr",
     "output_type": "stream",
     "text": [
      "No data found for target \"TIC184555203\".\n"
     ]
    },
    {
     "name": "stdout",
     "output_type": "stream",
     "text": [
      "414 KIC9964662 TIC272843659\n"
     ]
    },
    {
     "name": "stderr",
     "output_type": "stream",
     "text": [
      "No data found for target \"TIC272843659\".\n"
     ]
    },
    {
     "name": "stdout",
     "output_type": "stream",
     "text": [
      "415 KIC6020929 TIC258202632\n"
     ]
    },
    {
     "name": "stderr",
     "output_type": "stream",
     "text": [
      "No data found for target \"TIC258202632\".\n"
     ]
    },
    {
     "name": "stdout",
     "output_type": "stream",
     "text": [
      "416 KIC8377598 TIC271969768\n"
     ]
    },
    {
     "name": "stderr",
     "output_type": "stream",
     "text": [
      "No data found for target \"TIC271969768\".\n"
     ]
    },
    {
     "name": "stdout",
     "output_type": "stream",
     "text": [
      "417 KIC9726785 TIC273589975\n"
     ]
    },
    {
     "name": "stderr",
     "output_type": "stream",
     "text": [
      "No data found for target \"TIC273589975\".\n"
     ]
    },
    {
     "name": "stdout",
     "output_type": "stream",
     "text": [
      "418 KIC12066620 TIC27014610\n"
     ]
    },
    {
     "name": "stderr",
     "output_type": "stream",
     "text": [
      "No data found for target \"TIC27014610\".\n"
     ]
    },
    {
     "name": "stdout",
     "output_type": "stream",
     "text": [
      "419 KIC12158408 TIC417678592\n"
     ]
    },
    {
     "name": "stderr",
     "output_type": "stream",
     "text": [
      "No data found for target \"TIC417678592\".\n"
     ]
    },
    {
     "name": "stdout",
     "output_type": "stream",
     "text": [
      "420 KIC8424593 TIC159098206\n",
      "421 KIC7751017 TIC159650667\n"
     ]
    },
    {
     "name": "stderr",
     "output_type": "stream",
     "text": [
      "No data found for target \"TIC159650667\".\n"
     ]
    },
    {
     "name": "stdout",
     "output_type": "stream",
     "text": [
      "422 KIC11461798 TIC27390457\n"
     ]
    },
    {
     "name": "stderr",
     "output_type": "stream",
     "text": [
      "No data found for target \"TIC27390457\".\n"
     ]
    },
    {
     "name": "stdout",
     "output_type": "stream",
     "text": [
      "423 KIC11246357 TIC26752147\n"
     ]
    },
    {
     "name": "stderr",
     "output_type": "stream",
     "text": [
      "No data found for target \"TIC26752147\".\n"
     ]
    },
    {
     "name": "stdout",
     "output_type": "stream",
     "text": [
      "424 KIC8350026 TIC164778770\n",
      "425 KIC7897895 TIC270860512\n"
     ]
    },
    {
     "name": "stderr",
     "output_type": "stream",
     "text": [
      "No data found for target \"TIC270860512\".\n"
     ]
    },
    {
     "name": "stdout",
     "output_type": "stream",
     "text": [
      "426 KIC11506841 TIC26419185\n"
     ]
    },
    {
     "name": "stderr",
     "output_type": "stream",
     "text": [
      "No data found for target \"TIC26419185\".\n"
     ]
    },
    {
     "name": "stdout",
     "output_type": "stream",
     "text": [
      "427 KIC12011636 TIC290033001\n"
     ]
    },
    {
     "name": "stderr",
     "output_type": "stream",
     "text": [
      "No data found for target \"TIC290033001\".\n"
     ]
    },
    {
     "name": "stdout",
     "output_type": "stream",
     "text": [
      "428 KIC10016262 TIC270696992\n"
     ]
    },
    {
     "name": "stderr",
     "output_type": "stream",
     "text": [
      "No data found for target \"TIC270696992\".\n"
     ]
    },
    {
     "name": "stdout",
     "output_type": "stream",
     "text": [
      "429 KIC12254814 TIC299218388\n"
     ]
    },
    {
     "name": "stderr",
     "output_type": "stream",
     "text": [
      "No data found for target \"TIC299218388\".\n"
     ]
    },
    {
     "name": "stdout",
     "output_type": "stream",
     "text": [
      "430 KIC10517362 TIC164456471\n"
     ]
    },
    {
     "name": "stderr",
     "output_type": "stream",
     "text": [
      "No data found for target \"TIC164456471\".\n"
     ]
    },
    {
     "name": "stdout",
     "output_type": "stream",
     "text": [
      "431 KIC12316586 TIC27778157\n"
     ]
    },
    {
     "name": "stderr",
     "output_type": "stream",
     "text": [
      "No data found for target \"TIC27778157\".\n"
     ]
    },
    {
     "name": "stdout",
     "output_type": "stream",
     "text": [
      "432 KIC11241120 TIC406949085\n"
     ]
    },
    {
     "name": "stderr",
     "output_type": "stream",
     "text": [
      "No data found for target \"TIC406949085\".\n"
     ]
    },
    {
     "name": "stdout",
     "output_type": "stream",
     "text": [
      "433 KIC9349202 TIC271042432\n"
     ]
    },
    {
     "name": "stderr",
     "output_type": "stream",
     "text": [
      "No data found for target \"TIC271042432\".\n"
     ]
    },
    {
     "name": "stdout",
     "output_type": "stream",
     "text": [
      "434 KIC2285598 TIC121022767\n",
      "435 KIC11246353 TIC26752154\n"
     ]
    },
    {
     "name": "stderr",
     "output_type": "stream",
     "text": [
      "No data found for target \"TIC26752154\".\n"
     ]
    },
    {
     "name": "stdout",
     "output_type": "stream",
     "text": [
      "436 KIC8435766 TIC270701667\n",
      "437 KIC11390683 TIC48448667\n"
     ]
    },
    {
     "name": "stderr",
     "output_type": "stream",
     "text": [
      "No data found for target \"TIC48448667\".\n"
     ]
    },
    {
     "name": "stdout",
     "output_type": "stream",
     "text": [
      "438 KIC7730305 TIC123230837\n"
     ]
    },
    {
     "name": "stderr",
     "output_type": "stream",
     "text": [
      "No data found for target \"KIC7730305\".\n",
      "No data found for target \"KIC7730305\".\n"
     ]
    },
    {
     "name": "stdout",
     "output_type": "stream",
     "text": [
      "439 KIC10612448 TIC272280783\n",
      "440 KIC8288363 TIC158420853\n"
     ]
    },
    {
     "name": "stderr",
     "output_type": "stream",
     "text": [
      "No data found for target \"TIC158420853\".\n"
     ]
    },
    {
     "name": "stdout",
     "output_type": "stream",
     "text": [
      "441 KIC5567231 TIC172423383\n"
     ]
    },
    {
     "name": "stderr",
     "output_type": "stream",
     "text": [
      "No data found for target \"TIC172423383\".\n"
     ]
    },
    {
     "name": "stdout",
     "output_type": "stream",
     "text": [
      "442 KIC9289275 TIC271426558\n",
      "443 KIC12507728 TIC267673278\n"
     ]
    },
    {
     "name": "stderr",
     "output_type": "stream",
     "text": [
      "No data found for target \"TIC267673278\".\n"
     ]
    },
    {
     "name": "stdout",
     "output_type": "stream",
     "text": [
      "444 KIC4548647 TIC121327929\n",
      "445 KIC4255487 TIC394177220\n",
      "446 KIC5341666 TIC120043827\n",
      "447 KIC12004954 TIC399825095\n"
     ]
    },
    {
     "name": "stderr",
     "output_type": "stream",
     "text": [
      "No data found for target \"TIC399825095\".\n"
     ]
    },
    {
     "name": "stdout",
     "output_type": "stream",
     "text": [
      "448 KIC4672900 TIC184419029\n",
      "449 KIC9468242 TIC275489398\n"
     ]
    },
    {
     "name": "stderr",
     "output_type": "stream",
     "text": [
      "No data found for target \"TIC275489398\".\n"
     ]
    },
    {
     "name": "stdout",
     "output_type": "stream",
     "text": [
      "450 KIC10473049 TIC240177177\n",
      "451 KIC7382228 TIC272944302\n"
     ]
    },
    {
     "name": "stderr",
     "output_type": "stream",
     "text": [
      "No data found for target \"TIC272944302\".\n"
     ]
    },
    {
     "name": "stdout",
     "output_type": "stream",
     "text": [
      "452 KIC4996722 TIC121108497\n",
      "453 KIC3329839 TIC121395049\n"
     ]
    },
    {
     "name": "stderr",
     "output_type": "stream",
     "text": [
      "No data found for target \"TIC121395049\".\n"
     ]
    },
    {
     "name": "stdout",
     "output_type": "stream",
     "text": [
      "454 KIC9592725 TIC270698332\n"
     ]
    },
    {
     "name": "stderr",
     "output_type": "stream",
     "text": [
      "No data found for target \"TIC270698332\".\n"
     ]
    },
    {
     "name": "stdout",
     "output_type": "stream",
     "text": [
      "455 KIC11904330 TIC377780786\n"
     ]
    },
    {
     "name": "stderr",
     "output_type": "stream",
     "text": [
      "No data found for target \"TIC377780786\".\n"
     ]
    },
    {
     "name": "stdout",
     "output_type": "stream",
     "text": [
      "456 KIC11560431 TIC26656591\n"
     ]
    },
    {
     "name": "stderr",
     "output_type": "stream",
     "text": [
      "No data found for target \"TIC26656591\".\n"
     ]
    },
    {
     "name": "stdout",
     "output_type": "stream",
     "text": [
      "457 KIC10961247 TIC48305562\n",
      "458 KIC8379927 TIC272607848\n",
      "459 KIC11446140 TIC399826075\n"
     ]
    },
    {
     "name": "stderr",
     "output_type": "stream",
     "text": [
      "No data found for target \"TIC399826075\".\n"
     ]
    },
    {
     "name": "stdout",
     "output_type": "stream",
     "text": [
      "460 KIC8545457 TIC164883261\n"
     ]
    },
    {
     "name": "stderr",
     "output_type": "stream",
     "text": [
      "No data found for target \"TIC164883261\".\n"
     ]
    },
    {
     "name": "stdout",
     "output_type": "stream",
     "text": [
      "461 KIC11861997 TIC290033328\n",
      "462 KIC5738138 TIC172422313\n",
      "463 KIC9713432 TIC275488769\n"
     ]
    },
    {
     "name": "stderr",
     "output_type": "stream",
     "text": [
      "No data found for target \"TIC275488769\".\n"
     ]
    },
    {
     "name": "stdout",
     "output_type": "stream",
     "text": [
      "464 KIC9959608 TIC271548021\n",
      "465 KIC9202960 TIC164654552\n",
      "466 KIC12167086 TIC27533798\n",
      "467 KIC12600863 TIC416267318\n"
     ]
    },
    {
     "name": "stderr",
     "output_type": "stream",
     "text": [
      "No data found for target \"TIC416267318\".\n"
     ]
    },
    {
     "name": "stdout",
     "output_type": "stream",
     "text": [
      "468 KIC5771956 TIC120319948\n"
     ]
    },
    {
     "name": "stderr",
     "output_type": "stream",
     "text": [
      "No data found for target \"TIC120319948\".\n"
     ]
    },
    {
     "name": "stdout",
     "output_type": "stream",
     "text": [
      "469 KIC8423789 TIC158989428\n"
     ]
    },
    {
     "name": "stderr",
     "output_type": "stream",
     "text": [
      "No data found for target \"TIC158989428\".\n"
     ]
    },
    {
     "name": "stdout",
     "output_type": "stream",
     "text": [
      "470 KIC11967633 TIC27006550\n",
      "471 KIC5599658 TIC120252024\n"
     ]
    },
    {
     "name": "stderr",
     "output_type": "stream",
     "text": [
      "No data found for target \"TIC120252024\".\n"
     ]
    },
    {
     "name": "stdout",
     "output_type": "stream",
     "text": [
      "472 KIC4489051 TIC169456040\n",
      "473 KIC3747181 TIC137218416\n"
     ]
    },
    {
     "name": "stderr",
     "output_type": "stream",
     "text": [
      "No data found for target \"TIC137218416\".\n"
     ]
    },
    {
     "name": "stdout",
     "output_type": "stream",
     "text": [
      "474 KIC11502240 TIC299154648\n"
     ]
    },
    {
     "name": "stderr",
     "output_type": "stream",
     "text": [
      "No data found for target \"TIC299154648\".\n"
     ]
    },
    {
     "name": "stdout",
     "output_type": "stream",
     "text": [
      "475 KIC6757637 TIC164729491\n",
      "476 KIC8245295 TIC271969239\n",
      "477 KIC3228918 TIC394179293\n"
     ]
    },
    {
     "name": "stderr",
     "output_type": "stream",
     "text": [
      "No data found for target \"TIC394179293\".\n"
     ]
    },
    {
     "name": "stdout",
     "output_type": "stream",
     "text": [
      "478 KIC7691457 TIC271261408\n"
     ]
    },
    {
     "name": "stderr",
     "output_type": "stream",
     "text": [
      "No data found for target \"TIC271261408\".\n"
     ]
    },
    {
     "name": "stdout",
     "output_type": "stream",
     "text": [
      "479 KIC5027715 TIC184296177\n",
      "480 KIC4833367 TIC122714288\n"
     ]
    },
    {
     "name": "stderr",
     "output_type": "stream",
     "text": [
      "No data found for target \"TIC122714288\".\n"
     ]
    },
    {
     "name": "stdout",
     "output_type": "stream",
     "text": [
      "481 KIC7500161 TIC123199213\n",
      "482 KIC4732422 TIC121107718\n",
      "483 KIC10482835 TIC272281141\n"
     ]
    },
    {
     "name": "stderr",
     "output_type": "stream",
     "text": [
      "No data found for target \"TIC272281141\".\n"
     ]
    },
    {
     "name": "stdout",
     "output_type": "stream",
     "text": [
      "484 KIC5597604 TIC237158768\n",
      "485 KIC6611875 TIC270608640\n",
      "486 KIC5567165 TIC172423418\n",
      "487 KIC7943764 TIC164778105\n"
     ]
    },
    {
     "name": "stderr",
     "output_type": "stream",
     "text": [
      "No data found for target \"TIC164778105\".\n"
     ]
    },
    {
     "name": "stdout",
     "output_type": "stream",
     "text": [
      "488 KIC5562069 TIC171098521\n",
      "489 KIC9760362 TIC158273158\n",
      "490 KIC5651496 TIC171974503\n"
     ]
    },
    {
     "name": "stderr",
     "output_type": "stream",
     "text": [
      "No data found for target \"TIC171974503\".\n"
     ]
    },
    {
     "name": "stdout",
     "output_type": "stream",
     "text": [
      "491 KIC9201481 TIC164458205\n"
     ]
    },
    {
     "name": "stderr",
     "output_type": "stream",
     "text": [
      "No data found for target \"TIC164458205\".\n"
     ]
    },
    {
     "name": "stdout",
     "output_type": "stream",
     "text": [
      "492 KIC8554446 TIC159107687\n"
     ]
    },
    {
     "name": "stderr",
     "output_type": "stream",
     "text": [
      "No data found for target \"TIC159107687\".\n"
     ]
    },
    {
     "name": "stdout",
     "output_type": "stream",
     "text": [
      "493 KIC11241109 TIC406949076\n"
     ]
    },
    {
     "name": "stderr",
     "output_type": "stream",
     "text": [
      "No data found for target \"TIC406949076\".\n"
     ]
    },
    {
     "name": "stdout",
     "output_type": "stream",
     "text": [
      "494 KIC4946401 TIC169458214\n"
     ]
    },
    {
     "name": "stderr",
     "output_type": "stream",
     "text": [
      "No data found for target \"TIC169458214\".\n"
     ]
    },
    {
     "name": "stdout",
     "output_type": "stream",
     "text": [
      "495 KIC12255339 TIC416280997\n"
     ]
    },
    {
     "name": "stderr",
     "output_type": "stream",
     "text": [
      "No data found for target \"TIC416280997\".\n"
     ]
    },
    {
     "name": "stdout",
     "output_type": "stream",
     "text": [
      "496 KIC7943762 TIC164778117\n"
     ]
    },
    {
     "name": "stderr",
     "output_type": "stream",
     "text": [
      "No data found for target \"TIC164778117\".\n"
     ]
    },
    {
     "name": "stdout",
     "output_type": "stream",
     "text": [
      "497 KIC4768671 TIC169078508\n"
     ]
    },
    {
     "name": "stderr",
     "output_type": "stream",
     "text": [
      "No data found for target \"TIC169078508\".\n"
     ]
    },
    {
     "name": "stdout",
     "output_type": "stream",
     "text": [
      "498 KIC10454113 TIC164668179\n",
      "499 KIC10801273 TIC26960898\n",
      "500 KIC6699598 TIC270864104\n"
     ]
    },
    {
     "name": "stderr",
     "output_type": "stream",
     "text": [
      "No data found for target \"TIC270864104\".\n"
     ]
    },
    {
     "name": "stdout",
     "output_type": "stream",
     "text": [
      "501 KIC7692454 TIC271432402\n",
      "502 KIC4768794 TIC169078826\n"
     ]
    },
    {
     "name": "stderr",
     "output_type": "stream",
     "text": [
      "No data found for target \"TIC169078826\".\n"
     ]
    },
    {
     "name": "stdout",
     "output_type": "stream",
     "text": [
      "503 KIC10224595 TIC273377739\n"
     ]
    },
    {
     "name": "stderr",
     "output_type": "stream",
     "text": [
      "No data found for target \"TIC273377739\".\n"
     ]
    },
    {
     "name": "stdout",
     "output_type": "stream",
     "text": [
      "504 KIC10224611 TIC273377737\n",
      "505 KIC3223000 TIC121456902\n",
      "506 KIC9203794 TIC164725641\n",
      "507 KIC11854100 TIC377780897\n"
     ]
    },
    {
     "name": "stderr",
     "output_type": "stream",
     "text": [
      "No data found for target \"TIC377780897\".\n"
     ]
    },
    {
     "name": "stdout",
     "output_type": "stream",
     "text": [
      "508 KIC7830503 TIC271047516\n"
     ]
    },
    {
     "name": "stderr",
     "output_type": "stream",
     "text": [
      "No data found for target \"TIC271047516\".\n"
     ]
    },
    {
     "name": "stdout",
     "output_type": "stream",
     "text": [
      "509 KIC3733735 TIC121123220\n",
      "510 KIC4277623 TIC139034088\n",
      "511 KIC3640967 TIC122225430\n"
     ]
    },
    {
     "name": "stderr",
     "output_type": "stream",
     "text": [
      "No data found for target \"TIC122225430\".\n"
     ]
    },
    {
     "name": "stdout",
     "output_type": "stream",
     "text": [
      "512 KIC7417813 TIC123314471\n",
      "513 KIC7023973 TIC158794983\n"
     ]
    },
    {
     "name": "stderr",
     "output_type": "stream",
     "text": [
      "No data found for target \"TIC158794983\".\n"
     ]
    },
    {
     "name": "stdout",
     "output_type": "stream",
     "text": [
      "514 KIC8197790 TIC185057638\n"
     ]
    },
    {
     "name": "stderr",
     "output_type": "stream",
     "text": [
      "No data found for target \"TIC185057638\".\n"
     ]
    },
    {
     "name": "stdout",
     "output_type": "stream",
     "text": [
      "515 KIC10959566 TIC48131885\n",
      "516 KIC9837504 TIC271040920\n"
     ]
    },
    {
     "name": "stderr",
     "output_type": "stream",
     "text": [
      "No data found for target \"TIC271040920\".\n"
     ]
    },
    {
     "name": "stdout",
     "output_type": "stream",
     "text": [
      "517 KIC4921615 TIC122713992\n"
     ]
    },
    {
     "name": "stderr",
     "output_type": "stream",
     "text": [
      "No data found for target \"TIC122713992\".\n"
     ]
    },
    {
     "name": "stdout",
     "output_type": "stream",
     "text": [
      "518 KIC4043389 TIC121214976\n",
      "519 KIC12453925 TIC298787492\n",
      "520 KIC11026764 TIC406948535\n",
      "521 KIC12158395 TIC417678593\n"
     ]
    },
    {
     "name": "stderr",
     "output_type": "stream",
     "text": [
      "No data found for target \"TIC417678593\".\n"
     ]
    },
    {
     "name": "stdout",
     "output_type": "stream",
     "text": [
      "522 KIC11018874 TIC377782358\n",
      "523 KIC7335017 TIC123125310\n"
     ]
    },
    {
     "name": "stderr",
     "output_type": "stream",
     "text": [
      "No data found for target \"TIC123125310\".\n"
     ]
    },
    {
     "name": "stdout",
     "output_type": "stream",
     "text": [
      "524 KIC7871531 TIC164410488\n",
      "525 KIC4736074 TIC121658841\n",
      "526 KIC6471174 TIC171968846\n"
     ]
    },
    {
     "name": "stderr",
     "output_type": "stream",
     "text": [
      "No data found for target \"TIC171968846\".\n"
     ]
    },
    {
     "name": "stdout",
     "output_type": "stream",
     "text": [
      "527 KIC8766268 TIC272368214\n"
     ]
    },
    {
     "name": "stderr",
     "output_type": "stream",
     "text": [
      "No data found for target \"TIC272368214\".\n"
     ]
    },
    {
     "name": "stdout",
     "output_type": "stream",
     "text": [
      "528 KIC12506514 TIC299161182\n"
     ]
    },
    {
     "name": "stderr",
     "output_type": "stream",
     "text": [
      "No data found for target \"TIC299161182\".\n"
     ]
    },
    {
     "name": "stdout",
     "output_type": "stream",
     "text": [
      "529 KIC7199010 TIC159717479\n"
     ]
    },
    {
     "name": "stderr",
     "output_type": "stream",
     "text": [
      "No data found for target \"TIC159717479\".\n"
     ]
    },
    {
     "name": "stdout",
     "output_type": "stream",
     "text": [
      "530 KIC6065223 TIC169822968\n"
     ]
    },
    {
     "name": "stderr",
     "output_type": "stream",
     "text": [
      "No data found for target \"TIC169822968\".\n"
     ]
    },
    {
     "name": "stdout",
     "output_type": "stream",
     "text": [
      "531 KIC6947095 TIC159716868\n"
     ]
    },
    {
     "name": "stderr",
     "output_type": "stream",
     "text": [
      "No data found for target \"TIC159716868\".\n"
     ]
    },
    {
     "name": "stdout",
     "output_type": "stream",
     "text": [
      "532 KIC5027650 TIC184247023\n"
     ]
    },
    {
     "name": "stderr",
     "output_type": "stream",
     "text": [
      "No data found for target \"TIC184247023\".\n"
     ]
    },
    {
     "name": "stdout",
     "output_type": "stream",
     "text": [
      "533 KIC4738909 TIC122063708\n",
      "534 KIC5599675 TIC120252038\n"
     ]
    },
    {
     "name": "stderr",
     "output_type": "stream",
     "text": [
      "No data found for target \"TIC120252038\".\n"
     ]
    },
    {
     "name": "stdout",
     "output_type": "stream",
     "text": [
      "535 KIC9826171 TIC159171617\n",
      "536 KIC4831454 TIC122447460\n",
      "537 KIC10482041 TIC272279823\n",
      "538 KIC4919905 TIC122447446\n"
     ]
    },
    {
     "name": "stderr",
     "output_type": "stream",
     "text": [
      "No data found for target \"TIC122447446\".\n"
     ]
    },
    {
     "name": "stdout",
     "output_type": "stream",
     "text": [
      "539 KIC10553769 TIC273875104\n"
     ]
    },
    {
     "name": "stderr",
     "output_type": "stream",
     "text": [
      "No data found for target \"TIC273875104\".\n"
     ]
    },
    {
     "name": "stdout",
     "output_type": "stream",
     "text": [
      "540 KIC9028413 TIC270856781\n"
     ]
    },
    {
     "name": "stderr",
     "output_type": "stream",
     "text": [
      "No data found for target \"TIC270856781\".\n"
     ]
    },
    {
     "name": "stdout",
     "output_type": "stream",
     "text": [
      "541 KIC7515645 TIC158555974\n"
     ]
    },
    {
     "name": "stderr",
     "output_type": "stream",
     "text": [
      "No data found for target \"TIC158555974\".\n"
     ]
    },
    {
     "name": "stdout",
     "output_type": "stream",
     "text": [
      "542 KIC7766306 TIC272176842\n"
     ]
    },
    {
     "name": "stderr",
     "output_type": "stream",
     "text": [
      "No data found for target \"TIC272176842\".\n"
     ]
    },
    {
     "name": "stdout",
     "output_type": "stream",
     "text": [
      "543 KIC3230069 TIC122224343\n"
     ]
    },
    {
     "name": "stderr",
     "output_type": "stream",
     "text": [
      "No data found for target \"TIC122224343\".\n"
     ]
    },
    {
     "name": "stdout",
     "output_type": "stream",
     "text": [
      "544 KIC11973944 TIC27912008\n"
     ]
    },
    {
     "name": "stderr",
     "output_type": "stream",
     "text": [
      "No data found for target \"TIC27912008\".\n"
     ]
    },
    {
     "name": "stdout",
     "output_type": "stream",
     "text": [
      "545 KIC10966172 TIC399827819\n"
     ]
    },
    {
     "name": "stderr",
     "output_type": "stream",
     "text": [
      "No data found for target \"TIC399827819\".\n"
     ]
    },
    {
     "name": "stdout",
     "output_type": "stream",
     "text": [
      "546 KIC12316078 TIC27686807\n"
     ]
    },
    {
     "name": "stderr",
     "output_type": "stream",
     "text": [
      "No data found for target \"TIC27686807\".\n"
     ]
    },
    {
     "name": "stdout",
     "output_type": "stream",
     "text": [
      "547 KIC6291729 TIC138430992\n"
     ]
    },
    {
     "name": "stderr",
     "output_type": "stream",
     "text": [
      "No data found for target \"TIC138430992\".\n"
     ]
    },
    {
     "name": "stdout",
     "output_type": "stream",
     "text": [
      "548 KIC6310128 TIC170652304\n"
     ]
    },
    {
     "name": "stderr",
     "output_type": "stream",
     "text": [
      "No data found for target \"TIC170652304\".\n"
     ]
    },
    {
     "name": "stdout",
     "output_type": "stream",
     "text": [
      "549 KIC7673177 TIC158725527\n"
     ]
    },
    {
     "name": "stderr",
     "output_type": "stream",
     "text": [
      "No data found for target \"TIC158725527\".\n"
     ]
    },
    {
     "name": "stdout",
     "output_type": "stream",
     "text": [
      "550 KIC7284744 TIC63368768\n"
     ]
    },
    {
     "name": "stderr",
     "output_type": "stream",
     "text": [
      "No data found for target \"TIC63368768\".\n"
     ]
    },
    {
     "name": "stdout",
     "output_type": "stream",
     "text": [
      "551 KIC5288041 TIC184009788\n"
     ]
    },
    {
     "name": "stderr",
     "output_type": "stream",
     "text": [
      "No data found for target \"TIC184009788\".\n"
     ]
    },
    {
     "name": "stdout",
     "output_type": "stream",
     "text": [
      "552 KIC8056286 TIC269121608\n"
     ]
    },
    {
     "name": "stderr",
     "output_type": "stream",
     "text": [
      "No data found for target \"TIC269121608\".\n"
     ]
    },
    {
     "name": "stdout",
     "output_type": "stream",
     "text": [
      "553 KIC8408982 TIC123229796\n",
      "554 KIC9693116 TIC123495703\n",
      "555 KIC4740598 TIC122139660\n",
      "556 KIC11244150 TIC26540657\n"
     ]
    },
    {
     "name": "stderr",
     "output_type": "stream",
     "text": [
      "No data found for target \"TIC26540657\".\n"
     ]
    },
    {
     "name": "stdout",
     "output_type": "stream",
     "text": [
      "557 KIC5903162 TIC171089241\n"
     ]
    },
    {
     "name": "stderr",
     "output_type": "stream",
     "text": [
      "No data found for target \"TIC171089241\".\n"
     ]
    },
    {
     "name": "stdout",
     "output_type": "stream",
     "text": [
      "558 KIC10979653 TIC26962077\n"
     ]
    },
    {
     "name": "stderr",
     "output_type": "stream",
     "text": [
      "No data found for target \"TIC26962077\".\n"
     ]
    },
    {
     "name": "stdout",
     "output_type": "stream",
     "text": [
      "559 KIC3544635 TIC137151302\n"
     ]
    },
    {
     "name": "stderr",
     "output_type": "stream",
     "text": [
      "No data found for target \"TIC137151302\".\n"
     ]
    },
    {
     "name": "stdout",
     "output_type": "stream",
     "text": [
      "560 KIC5442808 TIC122295331\n"
     ]
    },
    {
     "name": "stderr",
     "output_type": "stream",
     "text": [
      "No data found for target \"TIC122295331\".\n"
     ]
    },
    {
     "name": "stdout",
     "output_type": "stream",
     "text": [
      "561 KIC7466105 TIC272951547\n"
     ]
    },
    {
     "name": "stderr",
     "output_type": "stream",
     "text": [
      "No data found for target \"TIC272951547\".\n"
     ]
    },
    {
     "name": "stdout",
     "output_type": "stream",
     "text": [
      "562 KIC10070799 TIC159225872\n"
     ]
    },
    {
     "name": "stderr",
     "output_type": "stream",
     "text": [
      "No data found for target \"TIC159225872\".\n"
     ]
    },
    {
     "name": "stdout",
     "output_type": "stream",
     "text": [
      "563 KIC9226004 TIC271256122\n"
     ]
    },
    {
     "name": "stderr",
     "output_type": "stream",
     "text": [
      "No data found for target \"TIC271256122\".\n"
     ]
    },
    {
     "name": "stdout",
     "output_type": "stream",
     "text": [
      "564 KIC6292949 TIC138638730\n"
     ]
    },
    {
     "name": "stderr",
     "output_type": "stream",
     "text": [
      "No data found for target \"TIC138638730\".\n"
     ]
    },
    {
     "name": "stdout",
     "output_type": "stream",
     "text": [
      "565 KIC6694227 TIC63370087\n"
     ]
    },
    {
     "name": "stderr",
     "output_type": "stream",
     "text": [
      "No data found for target \"TIC63370087\".\n"
     ]
    },
    {
     "name": "stdout",
     "output_type": "stream",
     "text": [
      "566 KIC10796663 TIC26417170\n"
     ]
    },
    {
     "name": "stderr",
     "output_type": "stream",
     "text": [
      "No data found for target \"TIC26417170\".\n"
     ]
    },
    {
     "name": "stdout",
     "output_type": "stream",
     "text": [
      "567 KIC3545170 TIC137218769\n"
     ]
    },
    {
     "name": "stderr",
     "output_type": "stream",
     "text": [
      "No data found for target \"TIC137218769\".\n"
     ]
    },
    {
     "name": "stdout",
     "output_type": "stream",
     "text": [
      "568 KIC5002869 TIC121947430\n"
     ]
    },
    {
     "name": "stderr",
     "output_type": "stream",
     "text": [
      "No data found for target \"TIC121947430\".\n"
     ]
    },
    {
     "name": "stdout",
     "output_type": "stream",
     "text": [
      "569 KIC7335019 TIC123125314\n",
      "570 KIC12072958 TIC27911635\n",
      "571 KIC8394724 TIC239306651\n"
     ]
    },
    {
     "name": "stderr",
     "output_type": "stream",
     "text": [
      "No data found for target \"TIC239306651\".\n"
     ]
    },
    {
     "name": "stdout",
     "output_type": "stream",
     "text": [
      "572 KIC5771915 TIC120319937\n"
     ]
    },
    {
     "name": "stderr",
     "output_type": "stream",
     "text": [
      "No data found for target \"TIC120319937\".\n"
     ]
    },
    {
     "name": "stdout",
     "output_type": "stream",
     "text": [
      "573 KIC12307574 TIC26474701\n"
     ]
    },
    {
     "name": "stderr",
     "output_type": "stream",
     "text": [
      "No data found for target \"TIC26474701\".\n"
     ]
    },
    {
     "name": "stdout",
     "output_type": "stream",
     "text": [
      "574 KIC2860930 TIC138037132\n"
     ]
    },
    {
     "name": "stderr",
     "output_type": "stream",
     "text": [
      "No data found for target \"TIC138037132\".\n"
     ]
    },
    {
     "name": "stdout",
     "output_type": "stream",
     "text": [
      "575 KIC5818756 TIC171096753\n"
     ]
    },
    {
     "name": "stderr",
     "output_type": "stream",
     "text": [
      "No data found for target \"TIC171096753\".\n"
     ]
    },
    {
     "name": "stdout",
     "output_type": "stream",
     "text": [
      "576 KIC8037296 TIC271260122\n"
     ]
    },
    {
     "name": "stderr",
     "output_type": "stream",
     "text": [
      "No data found for target \"TIC271260122\".\n"
     ]
    },
    {
     "name": "stdout",
     "output_type": "stream",
     "text": [
      "577 KIC6293275 TIC377912425\n"
     ]
    },
    {
     "name": "stderr",
     "output_type": "stream",
     "text": [
      "No data found for target \"TIC377912425\".\n"
     ]
    },
    {
     "name": "stdout",
     "output_type": "stream",
     "text": [
      "578 KIC10514084 TIC123206318\n",
      "579 KIC10226382 TIC273872934\n"
     ]
    },
    {
     "name": "stderr",
     "output_type": "stream",
     "text": [
      "No data found for target \"TIC273872934\".\n"
     ]
    },
    {
     "name": "stdout",
     "output_type": "stream",
     "text": [
      "580 KIC7976727 TIC273036537\n"
     ]
    },
    {
     "name": "stderr",
     "output_type": "stream",
     "text": [
      "No data found for target \"TIC273036537\".\n"
     ]
    },
    {
     "name": "stdout",
     "output_type": "stream",
     "text": [
      "581 KIC6859806 TIC159573276\n"
     ]
    },
    {
     "name": "stderr",
     "output_type": "stream",
     "text": [
      "No data found for target \"TIC159573276\".\n"
     ]
    },
    {
     "name": "stdout",
     "output_type": "stream",
     "text": [
      "582 KIC4770674 TIC169561225\n"
     ]
    },
    {
     "name": "stderr",
     "output_type": "stream",
     "text": [
      "No data found for target \"TIC169561225\".\n"
     ]
    },
    {
     "name": "stdout",
     "output_type": "stream",
     "text": [
      "583 KIC10960783 TIC48304595\n"
     ]
    },
    {
     "name": "stderr",
     "output_type": "stream",
     "text": [
      "No data found for target \"TIC48304595\".\n"
     ]
    },
    {
     "name": "stdout",
     "output_type": "stream",
     "text": [
      "584 KIC6071791 TIC171971952\n"
     ]
    },
    {
     "name": "stderr",
     "output_type": "stream",
     "text": [
      "No data found for target \"TIC171971952\".\n"
     ]
    },
    {
     "name": "stdout",
     "output_type": "stream",
     "text": [
      "585 KIC7350067 TIC158552258\n"
     ]
    },
    {
     "name": "stderr",
     "output_type": "stream",
     "text": [
      "No data found for target \"TIC158552258\".\n"
     ]
    },
    {
     "name": "stdout",
     "output_type": "stream",
     "text": [
      "586 KIC5308886 TIC172424945\n"
     ]
    },
    {
     "name": "stderr",
     "output_type": "stream",
     "text": [
      "No data found for target \"TIC172424945\".\n"
     ]
    },
    {
     "name": "stdout",
     "output_type": "stream",
     "text": [
      "587 KIC12254821 TIC299218364\n",
      "588 KIC9898811 TIC271355218\n"
     ]
    },
    {
     "name": "stderr",
     "output_type": "stream",
     "text": [
      "No data found for target \"TIC271355218\".\n"
     ]
    },
    {
     "name": "stdout",
     "output_type": "stream",
     "text": [
      "589 KIC10355880 TIC273374795\n"
     ]
    },
    {
     "name": "stderr",
     "output_type": "stream",
     "text": [
      "No data found for target \"TIC273374795\".\n"
     ]
    },
    {
     "name": "stdout",
     "output_type": "stream",
     "text": [
      "590 KIC11658610 TIC267671122\n",
      "591 KIC11657079 TIC299159072\n"
     ]
    },
    {
     "name": "stderr",
     "output_type": "stream",
     "text": [
      "No data found for target \"TIC299159072\".\n"
     ]
    },
    {
     "name": "stdout",
     "output_type": "stream",
     "text": [
      "592 KIC10963092 TIC48450389\n"
     ]
    },
    {
     "name": "stderr",
     "output_type": "stream",
     "text": [
      "No data found for target \"TIC48450389\".\n"
     ]
    },
    {
     "name": "stdout",
     "output_type": "stream",
     "text": [
      "593 KIC9837556 TIC271040790\n"
     ]
    },
    {
     "name": "stderr",
     "output_type": "stream",
     "text": [
      "No data found for target \"TIC271040790\".\n"
     ]
    },
    {
     "name": "stdout",
     "output_type": "stream",
     "text": [
      "594 KIC7115733 TIC159652392\n"
     ]
    },
    {
     "name": "stderr",
     "output_type": "stream",
     "text": [
      "No data found for target \"TIC159652392\".\n"
     ]
    },
    {
     "name": "stdout",
     "output_type": "stream",
     "text": [
      "595 KIC12417320 TIC27638872\n"
     ]
    },
    {
     "name": "stderr",
     "output_type": "stream",
     "text": [
      "No data found for target \"TIC27638872\".\n"
     ]
    },
    {
     "name": "stdout",
     "output_type": "stream",
     "text": [
      "596 KIC11342472 TIC399954033\n"
     ]
    },
    {
     "name": "stderr",
     "output_type": "stream",
     "text": [
      "No data found for target \"TIC399954033\".\n"
     ]
    },
    {
     "name": "stdout",
     "output_type": "stream",
     "text": [
      "597 KIC8044016 TIC272609295\n"
     ]
    },
    {
     "name": "stderr",
     "output_type": "stream",
     "text": [
      "No data found for target \"TIC272609295\".\n"
     ]
    },
    {
     "name": "stdout",
     "output_type": "stream",
     "text": [
      "598 KIC2164726 TIC137637251\n"
     ]
    },
    {
     "name": "stderr",
     "output_type": "stream",
     "text": [
      "No data found for target \"TIC137637251\".\n"
     ]
    },
    {
     "name": "stdout",
     "output_type": "stream",
     "text": [
      "599 KIC6059644 TIC184561811\n"
     ]
    },
    {
     "name": "stderr",
     "output_type": "stream",
     "text": [
      "No data found for target \"TIC184561811\".\n"
     ]
    },
    {
     "name": "stdout",
     "output_type": "stream",
     "text": [
      "600 KIC10081993 TIC271040165\n",
      "601 KIC11454122 TIC350810468\n"
     ]
    },
    {
     "name": "stderr",
     "output_type": "stream",
     "text": [
      "No data found for target \"TIC350810468\".\n"
     ]
    },
    {
     "name": "stdout",
     "output_type": "stream",
     "text": [
      "602 KIC8804962 TIC351910775\n",
      "603 KIC12352170 TIC299028973\n"
     ]
    },
    {
     "name": "stderr",
     "output_type": "stream",
     "text": [
      "No data found for target \"TIC299028973\".\n"
     ]
    },
    {
     "name": "stdout",
     "output_type": "stream",
     "text": [
      "604 KIC9899449 TIC271547915\n"
     ]
    },
    {
     "name": "stderr",
     "output_type": "stream",
     "text": [
      "No data found for target \"TIC271547915\".\n"
     ]
    },
    {
     "name": "stdout",
     "output_type": "stream",
     "text": [
      "605 KIC9025367 TIC275490612\n"
     ]
    },
    {
     "name": "stderr",
     "output_type": "stream",
     "text": [
      "No data found for target \"TIC275490612\".\n"
     ]
    },
    {
     "name": "stdout",
     "output_type": "stream",
     "text": [
      "606 KIC11822576 TIC27685076\n"
     ]
    },
    {
     "name": "stderr",
     "output_type": "stream",
     "text": [
      "No data found for target \"TIC27685076\".\n"
     ]
    },
    {
     "name": "stdout",
     "output_type": "stream",
     "text": [
      "607 KIC11253301 TIC27647525\n"
     ]
    },
    {
     "name": "stderr",
     "output_type": "stream",
     "text": [
      "No data found for target \"TIC27647525\".\n"
     ]
    },
    {
     "name": "stdout",
     "output_type": "stream",
     "text": [
      "608 KIC4039966 TIC120765034\n",
      "609 KIC4351367 TIC121215370\n"
     ]
    },
    {
     "name": "stderr",
     "output_type": "stream",
     "text": [
      "No data found for target \"TIC121215370\".\n"
     ]
    },
    {
     "name": "stdout",
     "output_type": "stream",
     "text": [
      "610 KIC5130771 TIC171878288\n"
     ]
    },
    {
     "name": "stderr",
     "output_type": "stream",
     "text": [
      "No data found for target \"TIC171878288\".\n"
     ]
    },
    {
     "name": "stdout",
     "output_type": "stream",
     "text": [
      "611 KIC3973209 TIC184299870\n"
     ]
    },
    {
     "name": "stderr",
     "output_type": "stream",
     "text": [
      "No data found for target \"TIC184299870\".\n"
     ]
    },
    {
     "name": "stdout",
     "output_type": "stream",
     "text": [
      "612 KIC8673571 TIC164677568\n"
     ]
    },
    {
     "name": "stderr",
     "output_type": "stream",
     "text": [
      "No data found for target \"TIC164677568\".\n"
     ]
    },
    {
     "name": "stdout",
     "output_type": "stream",
     "text": [
      "613 KIC8740221 TIC352012766\n"
     ]
    },
    {
     "name": "stderr",
     "output_type": "stream",
     "text": [
      "No data found for target \"TIC352012766\".\n"
     ]
    },
    {
     "name": "stdout",
     "output_type": "stream",
     "text": [
      "614 KIC4750043 TIC137762638\n"
     ]
    },
    {
     "name": "stderr",
     "output_type": "stream",
     "text": [
      "No data found for target \"TIC137762638\".\n"
     ]
    },
    {
     "name": "stdout",
     "output_type": "stream",
     "text": [
      "615 KIC8505485 TIC271769821\n",
      "616 KIC4818462 TIC120684955\n"
     ]
    },
    {
     "name": "stderr",
     "output_type": "stream",
     "text": [
      "No data found for target \"TIC120684955\".\n"
     ]
    },
    {
     "name": "stdout",
     "output_type": "stream",
     "text": [
      "617 KIC11873674 TIC27846030\n"
     ]
    },
    {
     "name": "stderr",
     "output_type": "stream",
     "text": [
      "No data found for target \"TIC27846030\".\n"
     ]
    },
    {
     "name": "stdout",
     "output_type": "stream",
     "text": [
      "618 KIC9693506 TIC164416613\n"
     ]
    },
    {
     "name": "stderr",
     "output_type": "stream",
     "text": [
      "No data found for target \"TIC164416613\".\n"
     ]
    },
    {
     "name": "stdout",
     "output_type": "stream",
     "text": [
      "619 KIC12255968 TIC267746195\n"
     ]
    },
    {
     "name": "stderr",
     "output_type": "stream",
     "text": [
      "No data found for target \"TIC267746195\".\n"
     ]
    },
    {
     "name": "stdout",
     "output_type": "stream",
     "text": [
      "620 KIC11919419 TIC27188060\n"
     ]
    },
    {
     "name": "stderr",
     "output_type": "stream",
     "text": [
      "No data found for target \"TIC27188060\".\n"
     ]
    },
    {
     "name": "stdout",
     "output_type": "stream",
     "text": [
      "621 KIC11713703 TIC424868186\n"
     ]
    },
    {
     "name": "stderr",
     "output_type": "stream",
     "text": [
      "No data found for target \"TIC424868186\".\n"
     ]
    },
    {
     "name": "stdout",
     "output_type": "stream",
     "text": [
      "622 KIC10860740 TIC26417372\n"
     ]
    },
    {
     "name": "stderr",
     "output_type": "stream",
     "text": [
      "No data found for target \"TIC26417372\".\n"
     ]
    },
    {
     "name": "stdout",
     "output_type": "stream",
     "text": [
      "623 KIC11402942 TIC26541111\n"
     ]
    },
    {
     "name": "stderr",
     "output_type": "stream",
     "text": [
      "No data found for target \"TIC26541111\".\n"
     ]
    },
    {
     "name": "stdout",
     "output_type": "stream",
     "text": [
      "624 KIC5821056 TIC171882778\n"
     ]
    },
    {
     "name": "stderr",
     "output_type": "stream",
     "text": [
      "No data found for target \"TIC171882778\".\n"
     ]
    },
    {
     "name": "stdout",
     "output_type": "stream",
     "text": [
      "625 KIC11818027 TIC27006972\n",
      "626 KIC10224610 TIC273377758\n"
     ]
    },
    {
     "name": "stderr",
     "output_type": "stream",
     "text": [
      "No data found for target \"TIC273377758\".\n"
     ]
    },
    {
     "name": "stdout",
     "output_type": "stream",
     "text": [
      "627 KIC8451777 TIC274127438\n"
     ]
    },
    {
     "name": "stderr",
     "output_type": "stream",
     "text": [
      "No data found for target \"TIC274127438\".\n"
     ]
    },
    {
     "name": "stdout",
     "output_type": "stream",
     "text": [
      "628 KIC7517793 TIC158791857\n"
     ]
    },
    {
     "name": "stderr",
     "output_type": "stream",
     "text": [
      "No data found for target \"TIC158791857\".\n"
     ]
    },
    {
     "name": "stdout",
     "output_type": "stream",
     "text": [
      "629 KIC3544657 TIC137151333\n"
     ]
    },
    {
     "name": "stderr",
     "output_type": "stream",
     "text": [
      "No data found for target \"TIC137151333\".\n"
     ]
    },
    {
     "name": "stdout",
     "output_type": "stream",
     "text": [
      "630 KIC8525606 TIC185059472\n"
     ]
    },
    {
     "name": "stderr",
     "output_type": "stream",
     "text": [
      "No data found for target \"TIC185059472\".\n"
     ]
    },
    {
     "name": "stdout",
     "output_type": "stream",
     "text": [
      "631 KIC3342325 TIC137219181\n"
     ]
    },
    {
     "name": "stderr",
     "output_type": "stream",
     "text": [
      "No data found for target \"TIC137219181\".\n"
     ]
    },
    {
     "name": "stdout",
     "output_type": "stream",
     "text": [
      "632 KIC11717716 TIC27083004\n",
      "633 KIC9514879 TIC158112034\n",
      "634 KIC9640760 TIC158625868\n"
     ]
    },
    {
     "name": "stderr",
     "output_type": "stream",
     "text": [
      "No data found for target \"TIC158625868\".\n"
     ]
    },
    {
     "name": "stdout",
     "output_type": "stream",
     "text": [
      "635 KIC12366991 TIC27778183\n"
     ]
    },
    {
     "name": "stderr",
     "output_type": "stream",
     "text": [
      "No data found for target \"TIC27778183\".\n"
     ]
    },
    {
     "name": "stdout",
     "output_type": "stream",
     "text": [
      "636 KIC8737625 TIC164670857\n"
     ]
    },
    {
     "name": "stderr",
     "output_type": "stream",
     "text": [
      "No data found for target \"TIC164670857\".\n"
     ]
    },
    {
     "name": "stdout",
     "output_type": "stream",
     "text": [
      "637 KIC9475919 TIC272074970\n"
     ]
    },
    {
     "name": "stderr",
     "output_type": "stream",
     "text": [
      "No data found for target \"TIC272074970\".\n"
     ]
    },
    {
     "name": "stdout",
     "output_type": "stream",
     "text": [
      "638 KIC11817752 TIC27006864\n"
     ]
    },
    {
     "name": "stderr",
     "output_type": "stream",
     "text": [
      "No data found for target \"TIC27006864\".\n"
     ]
    },
    {
     "name": "stdout",
     "output_type": "stream",
     "text": [
      "639 KIC5388485 TIC170647110\n"
     ]
    },
    {
     "name": "stderr",
     "output_type": "stream",
     "text": [
      "No data found for target \"TIC170647110\".\n"
     ]
    },
    {
     "name": "stdout",
     "output_type": "stream",
     "text": [
      "640 KIC12165032 TIC27188798\n"
     ]
    },
    {
     "name": "stderr",
     "output_type": "stream",
     "text": [
      "No data found for target \"TIC27188798\".\n"
     ]
    },
    {
     "name": "stdout",
     "output_type": "stream",
     "text": [
      "641 KIC7902001 TIC271669136\n"
     ]
    },
    {
     "name": "stderr",
     "output_type": "stream",
     "text": [
      "No data found for target \"TIC271669136\".\n"
     ]
    },
    {
     "name": "stdout",
     "output_type": "stream",
     "text": [
      "642 KIC8916411 TIC185186948\n"
     ]
    },
    {
     "name": "stderr",
     "output_type": "stream",
     "text": [
      "No data found for target \"TIC185186948\".\n"
     ]
    },
    {
     "name": "stdout",
     "output_type": "stream",
     "text": [
      "643 KIC7008115 TIC123316322\n"
     ]
    },
    {
     "name": "stderr",
     "output_type": "stream",
     "text": [
      "No data found for target \"TIC123316322\".\n"
     ]
    },
    {
     "name": "stdout",
     "output_type": "stream",
     "text": [
      "644 KIC7816137 TIC159105727\n"
     ]
    },
    {
     "name": "stderr",
     "output_type": "stream",
     "text": [
      "No data found for target \"TIC159105727\".\n"
     ]
    },
    {
     "name": "stdout",
     "output_type": "stream",
     "text": [
      "645 KIC10753707 TIC416634987\n"
     ]
    },
    {
     "name": "stderr",
     "output_type": "stream",
     "text": [
      "No data found for target \"TIC416634987\".\n"
     ]
    },
    {
     "name": "stdout",
     "output_type": "stream",
     "text": [
      "646 KIC6131552 TIC138639246\n"
     ]
    },
    {
     "name": "stderr",
     "output_type": "stream",
     "text": [
      "No data found for target \"TIC138639246\".\n"
     ]
    },
    {
     "name": "stdout",
     "output_type": "stream",
     "text": [
      "647 KIC5177475 TIC121865157\n"
     ]
    },
    {
     "name": "stderr",
     "output_type": "stream",
     "text": [
      "No data found for target \"TIC121865157\".\n"
     ]
    },
    {
     "name": "stdout",
     "output_type": "stream",
     "text": [
      "648 KIC11768026 TIC27082993\n"
     ]
    },
    {
     "name": "stderr",
     "output_type": "stream",
     "text": [
      "No data found for target \"TIC27082993\".\n"
     ]
    },
    {
     "name": "stdout",
     "output_type": "stream",
     "text": [
      "649 KIC4945547 TIC169079441\n"
     ]
    },
    {
     "name": "stderr",
     "output_type": "stream",
     "text": [
      "No data found for target \"TIC169079441\".\n"
     ]
    },
    {
     "name": "stdout",
     "output_type": "stream",
     "text": [
      "650 KIC8916469 TIC185186993\n"
     ]
    },
    {
     "name": "stderr",
     "output_type": "stream",
     "text": [
      "No data found for target \"TIC185186993\".\n"
     ]
    },
    {
     "name": "stdout",
     "output_type": "stream",
     "text": [
      "651 KIC2010577 TIC122508005\n"
     ]
    },
    {
     "name": "stderr",
     "output_type": "stream",
     "text": [
      "No data found for target \"TIC122508005\".\n"
     ]
    },
    {
     "name": "stdout",
     "output_type": "stream",
     "text": [
      "652 KIC8264418 TIC185058156\n"
     ]
    },
    {
     "name": "stderr",
     "output_type": "stream",
     "text": [
      "No data found for target \"TIC185058156\".\n"
     ]
    },
    {
     "name": "stdout",
     "output_type": "stream",
     "text": [
      "653 KIC8816832 TIC159580239\n"
     ]
    },
    {
     "name": "stderr",
     "output_type": "stream",
     "text": [
      "No data found for target \"TIC159580239\".\n"
     ]
    },
    {
     "name": "stdout",
     "output_type": "stream",
     "text": [
      "654 KIC10453350 TIC164557696\n"
     ]
    },
    {
     "name": "stderr",
     "output_type": "stream",
     "text": [
      "No data found for target \"TIC164557696\".\n"
     ]
    },
    {
     "name": "stdout",
     "output_type": "stream",
     "text": [
      "655 KIC7542858 TIC271966164\n"
     ]
    },
    {
     "name": "stderr",
     "output_type": "stream",
     "text": [
      "No data found for target \"TIC271966164\".\n"
     ]
    },
    {
     "name": "stdout",
     "output_type": "stream",
     "text": [
      "656 KIC11026927 TIC407001900\n"
     ]
    },
    {
     "name": "stderr",
     "output_type": "stream",
     "text": [
      "No data found for target \"TIC407001900\".\n"
     ]
    },
    {
     "name": "stdout",
     "output_type": "stream",
     "text": [
      "657 KIC7417786 TIC123314467\n"
     ]
    },
    {
     "name": "stderr",
     "output_type": "stream",
     "text": [
      "No data found for target \"TIC123314467\".\n"
     ]
    },
    {
     "name": "stdout",
     "output_type": "stream",
     "text": [
      "658 KIC6153404 TIC171971612\n"
     ]
    },
    {
     "name": "stderr",
     "output_type": "stream",
     "text": [
      "No data found for target \"TIC171971612\".\n"
     ]
    },
    {
     "name": "stdout",
     "output_type": "stream",
     "text": [
      "659 KIC10459987 TIC158412633\n",
      "660 KIC6278829 TIC394172613\n"
     ]
    },
    {
     "name": "stderr",
     "output_type": "stream",
     "text": [
      "No data found for target \"TIC394172613\".\n"
     ]
    },
    {
     "name": "stdout",
     "output_type": "stream",
     "text": [
      "661 KIC6188162 TIC120577867\n",
      "662 KIC11665627 TIC27007362\n",
      "663 KIC7966705 TIC270860320\n"
     ]
    },
    {
     "name": "stderr",
     "output_type": "stream",
     "text": [
      "No data found for target \"TIC270860320\".\n"
     ]
    },
    {
     "name": "stdout",
     "output_type": "stream",
     "text": [
      "664 KIC10657799 TIC298966019\n"
     ]
    },
    {
     "name": "stderr",
     "output_type": "stream",
     "text": [
      "No data found for target \"TIC298966019\".\n"
     ]
    },
    {
     "name": "stdout",
     "output_type": "stream",
     "text": [
      "665 KIC6072164 TIC171972002\n"
     ]
    },
    {
     "name": "stderr",
     "output_type": "stream",
     "text": [
      "No data found for target \"TIC171972002\".\n"
     ]
    },
    {
     "name": "stdout",
     "output_type": "stream",
     "text": [
      "666 KIC4554789 TIC394176548\n"
     ]
    },
    {
     "name": "stderr",
     "output_type": "stream",
     "text": [
      "No data found for target \"TIC394176548\".\n"
     ]
    },
    {
     "name": "stdout",
     "output_type": "stream",
     "text": [
      "667 KIC9898405 TIC271253839\n"
     ]
    },
    {
     "name": "stderr",
     "output_type": "stream",
     "text": [
      "No data found for target \"TIC271253839\".\n"
     ]
    },
    {
     "name": "stdout",
     "output_type": "stream",
     "text": [
      "668 KIC11182897 TIC298784838\n",
      "669 KIC9098294 TIC271427268\n",
      "670 KIC2990192 TIC137219948\n",
      "671 KIC7881991 TIC158725917\n"
     ]
    },
    {
     "name": "stderr",
     "output_type": "stream",
     "text": [
      "No data found for target \"TIC158725917\".\n"
     ]
    },
    {
     "name": "stdout",
     "output_type": "stream",
     "text": [
      "672 KIC12555779 TIC267673321\n"
     ]
    },
    {
     "name": "stderr",
     "output_type": "stream",
     "text": [
      "No data found for target \"TIC267673321\".\n"
     ]
    },
    {
     "name": "stdout",
     "output_type": "stream",
     "text": [
      "673 KIC6187888 TIC120576694\n"
     ]
    },
    {
     "name": "stderr",
     "output_type": "stream",
     "text": [
      "No data found for target \"TIC120576694\".\n"
     ]
    },
    {
     "name": "stdout",
     "output_type": "stream",
     "text": [
      "674 KIC8424542 TIC159098228\n"
     ]
    },
    {
     "name": "stderr",
     "output_type": "stream",
     "text": [
      "No data found for target \"TIC159098228\".\n"
     ]
    },
    {
     "name": "stdout",
     "output_type": "stream",
     "text": [
      "675 KIC7669332 TIC158276907\n",
      "676 KIC10285655 TIC272279242\n"
     ]
    },
    {
     "name": "stderr",
     "output_type": "stream",
     "text": [
      "No data found for target \"TIC272279242\".\n"
     ]
    },
    {
     "name": "stdout",
     "output_type": "stream",
     "text": [
      "677 KIC11231375 TIC48448923\n"
     ]
    },
    {
     "name": "stderr",
     "output_type": "stream",
     "text": [
      "No data found for target \"TIC48448923\".\n"
     ]
    },
    {
     "name": "stdout",
     "output_type": "stream",
     "text": [
      "678 KIC8167962 TIC63366436\n"
     ]
    },
    {
     "name": "stderr",
     "output_type": "stream",
     "text": [
      "No data found for target \"TIC63366436\".\n"
     ]
    },
    {
     "name": "stdout",
     "output_type": "stream",
     "text": [
      "679 KIC8823902 TIC270700618\n"
     ]
    },
    {
     "name": "stderr",
     "output_type": "stream",
     "text": [
      "No data found for target \"TIC270700618\".\n"
     ]
    },
    {
     "name": "stdout",
     "output_type": "stream",
     "text": [
      "680 KIC3643774 TIC122684761\n",
      "681 KIC4378621 TIC138891897\n"
     ]
    },
    {
     "name": "stderr",
     "output_type": "stream",
     "text": [
      "No data found for target \"TIC138891897\".\n"
     ]
    },
    {
     "name": "stdout",
     "output_type": "stream",
     "text": [
      "682 KIC8760485 TIC271044305\n"
     ]
    },
    {
     "name": "stderr",
     "output_type": "stream",
     "text": [
      "No data found for target \"TIC271044305\".\n"
     ]
    },
    {
     "name": "stdout",
     "output_type": "stream",
     "text": [
      "683 KIC7041882 TIC270949356\n"
     ]
    },
    {
     "name": "stderr",
     "output_type": "stream",
     "text": [
      "No data found for target \"TIC270949356\".\n"
     ]
    },
    {
     "name": "stdout",
     "output_type": "stream",
     "text": [
      "684 KIC3232835 TIC122607182\n"
     ]
    },
    {
     "name": "stderr",
     "output_type": "stream",
     "text": [
      "No data found for target \"TIC122607182\".\n"
     ]
    },
    {
     "name": "stdout",
     "output_type": "stream",
     "text": [
      "685 KIC7751003 TIC159650635\n"
     ]
    },
    {
     "name": "stderr",
     "output_type": "stream",
     "text": [
      "No data found for target \"TIC159650635\".\n"
     ]
    },
    {
     "name": "stdout",
     "output_type": "stream",
     "text": [
      "686 KIC8180001 TIC272489244\n"
     ]
    },
    {
     "name": "stderr",
     "output_type": "stream",
     "text": [
      "No data found for target \"TIC272489244\".\n"
     ]
    },
    {
     "name": "stdout",
     "output_type": "stream",
     "text": [
      "687 KIC10850420 TIC399827121\n",
      "688 KIC6039091 TIC122598239\n",
      "689 KIC5812648 TIC169461813\n"
     ]
    },
    {
     "name": "stderr",
     "output_type": "stream",
     "text": [
      "No data found for target \"TIC169461813\".\n"
     ]
    },
    {
     "name": "stdout",
     "output_type": "stream",
     "text": [
      "690 KIC5802784 TIC139157246\n"
     ]
    },
    {
     "name": "stderr",
     "output_type": "stream",
     "text": [
      "No data found for target \"TIC139157246\".\n"
     ]
    },
    {
     "name": "stdout",
     "output_type": "stream",
     "text": [
      "691 KIC9033497 TIC271883140\n"
     ]
    },
    {
     "name": "stderr",
     "output_type": "stream",
     "text": [
      "No data found for target \"TIC271883140\".\n"
     ]
    },
    {
     "name": "stdout",
     "output_type": "stream",
     "text": [
      "692 KIC5342574 TIC120251681\n"
     ]
    },
    {
     "name": "stderr",
     "output_type": "stream",
     "text": [
      "No data found for target \"TIC120251681\".\n"
     ]
    },
    {
     "name": "stdout",
     "output_type": "stream",
     "text": [
      "693 KIC2692708 TIC120637232\n",
      "694 KIC10979644 TIC26962019\n"
     ]
    },
    {
     "name": "stderr",
     "output_type": "stream",
     "text": [
      "No data found for target \"TIC26962019\".\n"
     ]
    },
    {
     "name": "stdout",
     "output_type": "stream",
     "text": [
      "695 KIC6470422 TIC171510837\n"
     ]
    },
    {
     "name": "stderr",
     "output_type": "stream",
     "text": [
      "No data found for target \"TIC171510837\".\n"
     ]
    },
    {
     "name": "stdout",
     "output_type": "stream",
     "text": [
      "696 KIC5384782 TIC169460098\n"
     ]
    },
    {
     "name": "stderr",
     "output_type": "stream",
     "text": [
      "No data found for target \"TIC169460098\".\n"
     ]
    },
    {
     "name": "stdout",
     "output_type": "stream",
     "text": [
      "697 KIC2694746 TIC120891202\n"
     ]
    },
    {
     "name": "stderr",
     "output_type": "stream",
     "text": [
      "No data found for target \"TIC120891202\".\n"
     ]
    },
    {
     "name": "stdout",
     "output_type": "stream",
     "text": [
      "698 KIC5094276 TIC122300872\n"
     ]
    },
    {
     "name": "stderr",
     "output_type": "stream",
     "text": [
      "No data found for target \"TIC122300872\".\n"
     ]
    },
    {
     "name": "stdout",
     "output_type": "stream",
     "text": [
      "699 KIC7199436 TIC159767168\n"
     ]
    },
    {
     "name": "stderr",
     "output_type": "stream",
     "text": [
      "No data found for target \"TIC159767168\".\n"
     ]
    },
    {
     "name": "stdout",
     "output_type": "stream",
     "text": [
      "700 KIC10516029 TIC123446498\n"
     ]
    },
    {
     "name": "stderr",
     "output_type": "stream",
     "text": [
      "No data found for target \"TIC123446498\".\n"
     ]
    },
    {
     "name": "stdout",
     "output_type": "stream",
     "text": [
      "701 KIC7885558 TIC159220348\n"
     ]
    },
    {
     "name": "stderr",
     "output_type": "stream",
     "text": [
      "No data found for target \"TIC159220348\".\n"
     ]
    },
    {
     "name": "stdout",
     "output_type": "stream",
     "text": [
      "702 KIC11570051 TIC27913680\n"
     ]
    },
    {
     "name": "stderr",
     "output_type": "stream",
     "text": [
      "No data found for target \"TIC27913680\".\n"
     ]
    },
    {
     "name": "stdout",
     "output_type": "stream",
     "text": [
      "703 KIC9472134 TIC271164740\n"
     ]
    },
    {
     "name": "stderr",
     "output_type": "stream",
     "text": [
      "No data found for target \"TIC271164740\".\n"
     ]
    },
    {
     "name": "stdout",
     "output_type": "stream",
     "text": [
      "704 KIC9898800 TIC271355239\n",
      "705 KIC9697454 TIC164892049\n"
     ]
    },
    {
     "name": "stderr",
     "output_type": "stream",
     "text": [
      "No data found for target \"TIC164892049\".\n"
     ]
    },
    {
     "name": "stdout",
     "output_type": "stream",
     "text": [
      "706 KIC3938103 TIC120764870\n"
     ]
    },
    {
     "name": "stderr",
     "output_type": "stream",
     "text": [
      "No data found for target \"TIC120764870\".\n"
     ]
    },
    {
     "name": "stdout",
     "output_type": "stream",
     "text": [
      "707 KIC5027606 TIC184246989\n"
     ]
    },
    {
     "name": "stderr",
     "output_type": "stream",
     "text": [
      "No data found for target \"TIC184246989\".\n"
     ]
    },
    {
     "name": "stdout",
     "output_type": "stream",
     "text": [
      "708 KIC11244496 TIC26584063\n"
     ]
    },
    {
     "name": "stderr",
     "output_type": "stream",
     "text": [
      "No data found for target \"TIC26584063\".\n"
     ]
    },
    {
     "name": "stdout",
     "output_type": "stream",
     "text": [
      "709 KIC4672795 TIC184419059\n"
     ]
    },
    {
     "name": "stderr",
     "output_type": "stream",
     "text": [
      "No data found for target \"TIC184419059\".\n"
     ]
    },
    {
     "name": "stdout",
     "output_type": "stream",
     "text": [
      "710 KIC11495571 TIC48504458\n",
      "711 KIC11255531 TIC27914869\n"
     ]
    },
    {
     "name": "stderr",
     "output_type": "stream",
     "text": [
      "No data found for target \"TIC27914869\".\n"
     ]
    },
    {
     "name": "stdout",
     "output_type": "stream",
     "text": [
      "712 KIC6187864 TIC120576734\n"
     ]
    },
    {
     "name": "stderr",
     "output_type": "stream",
     "text": [
      "No data found for target \"TIC120576734\".\n"
     ]
    },
    {
     "name": "stdout",
     "output_type": "stream",
     "text": [
      "713 KIC6071998 TIC171971904\n"
     ]
    },
    {
     "name": "stderr",
     "output_type": "stream",
     "text": [
      "No data found for target \"TIC171971904\".\n"
     ]
    },
    {
     "name": "stdout",
     "output_type": "stream",
     "text": [
      "714 KIC8507979 TIC272272592\n",
      "715 KIC12208507 TIC26413174\n"
     ]
    },
    {
     "name": "stderr",
     "output_type": "stream",
     "text": [
      "No data found for target \"TIC26413174\".\n"
     ]
    },
    {
     "name": "stdout",
     "output_type": "stream",
     "text": [
      "716 KIC5703256 TIC122712104\n"
     ]
    },
    {
     "name": "stderr",
     "output_type": "stream",
     "text": [
      "No data found for target \"TIC122712104\".\n"
     ]
    },
    {
     "name": "stdout",
     "output_type": "stream",
     "text": [
      "717 KIC9782847 TIC272496017\n"
     ]
    },
    {
     "name": "stderr",
     "output_type": "stream",
     "text": [
      "No data found for target \"TIC272496017\".\n"
     ]
    },
    {
     "name": "stdout",
     "output_type": "stream",
     "text": [
      "718 KIC4761142 TIC184089642\n"
     ]
    },
    {
     "name": "stderr",
     "output_type": "stream",
     "text": [
      "No data found for target \"TIC184089642\".\n"
     ]
    },
    {
     "name": "stdout",
     "output_type": "stream",
     "text": [
      "719 KIC4831272 TIC122447493\n"
     ]
    },
    {
     "name": "stderr",
     "output_type": "stream",
     "text": [
      "No data found for target \"TIC122447493\".\n"
     ]
    },
    {
     "name": "stdout",
     "output_type": "stream",
     "text": [
      "720 KIC5962223 TIC137627217\n"
     ]
    },
    {
     "name": "stderr",
     "output_type": "stream",
     "text": [
      "No data found for target \"TIC137627217\".\n"
     ]
    },
    {
     "name": "stdout",
     "output_type": "stream",
     "text": [
      "721 KIC7201168 TIC63120378\n",
      "722 KIC4914938 TIC121941130\n"
     ]
    },
    {
     "name": "stderr",
     "output_type": "stream",
     "text": [
      "No data found for target \"TIC121941130\".\n"
     ]
    },
    {
     "name": "stdout",
     "output_type": "stream",
     "text": [
      "723 KIC11652870 TIC243271623\n",
      "724 KIC11499453 TIC399954267\n",
      "725 KIC11465860 TIC351191418\n"
     ]
    },
    {
     "name": "stderr",
     "output_type": "stream",
     "text": [
      "No data found for target \"TIC351191418\".\n"
     ]
    },
    {
     "name": "stdout",
     "output_type": "stream",
     "text": [
      "726 KIC10613242 TIC272599056\n"
     ]
    },
    {
     "name": "stderr",
     "output_type": "stream",
     "text": [
      "No data found for target \"TIC272599056\".\n"
     ]
    },
    {
     "name": "stdout",
     "output_type": "stream",
     "text": [
      "727 KIC1434286 TIC351052508\n"
     ]
    },
    {
     "name": "stderr",
     "output_type": "stream",
     "text": [
      "No data found for target \"TIC351052508\".\n"
     ]
    },
    {
     "name": "stdout",
     "output_type": "stream",
     "text": [
      "728 KIC10419991 TIC273048390\n"
     ]
    },
    {
     "name": "stderr",
     "output_type": "stream",
     "text": [
      "No data found for target \"TIC273048390\".\n"
     ]
    },
    {
     "name": "stdout",
     "output_type": "stream",
     "text": [
      "729 KIC4284521 TIC184555235\n"
     ]
    },
    {
     "name": "stderr",
     "output_type": "stream",
     "text": [
      "No data found for target \"TIC184555235\".\n"
     ]
    },
    {
     "name": "stdout",
     "output_type": "stream",
     "text": [
      "730 KIC11873607 TIC27845858\n"
     ]
    },
    {
     "name": "stderr",
     "output_type": "stream",
     "text": [
      "No data found for target \"TIC27845858\".\n"
     ]
    },
    {
     "name": "stdout",
     "output_type": "stream",
     "text": [
      "731 KIC8610382 TIC164890237\n"
     ]
    },
    {
     "name": "stderr",
     "output_type": "stream",
     "text": [
      "No data found for target \"TIC164890237\".\n"
     ]
    },
    {
     "name": "stdout",
     "output_type": "stream",
     "text": [
      "732 KIC7530674 TIC63368123\n"
     ]
    },
    {
     "name": "stderr",
     "output_type": "stream",
     "text": [
      "No data found for target \"TIC63368123\".\n"
     ]
    },
    {
     "name": "stdout",
     "output_type": "stream",
     "text": [
      "733 KIC10338245 TIC159726154\n"
     ]
    },
    {
     "name": "stderr",
     "output_type": "stream",
     "text": [
      "No data found for target \"TIC159726154\".\n"
     ]
    },
    {
     "name": "stdout",
     "output_type": "stream",
     "text": [
      "734 KIC3936317 TIC120499517\n"
     ]
    },
    {
     "name": "stderr",
     "output_type": "stream",
     "text": [
      "No data found for target \"TIC120499517\".\n"
     ]
    },
    {
     "name": "stdout",
     "output_type": "stream",
     "text": [
      "735 KIC11027000 TIC407001914\n"
     ]
    },
    {
     "name": "stderr",
     "output_type": "stream",
     "text": [
      "No data found for target \"TIC407001914\".\n"
     ]
    },
    {
     "name": "stdout",
     "output_type": "stream",
     "text": [
      "736 KIC7517686 TIC158791881\n"
     ]
    },
    {
     "name": "stderr",
     "output_type": "stream",
     "text": [
      "No data found for target \"TIC158791881\".\n"
     ]
    },
    {
     "name": "stdout",
     "output_type": "stream",
     "text": [
      "737 KIC7677767 TIC159306676\n",
      "738 KIC11719920 TIC27456276\n"
     ]
    },
    {
     "name": "stderr",
     "output_type": "stream",
     "text": [
      "No data found for target \"TIC27456276\".\n"
     ]
    },
    {
     "name": "stdout",
     "output_type": "stream",
     "text": [
      "739 KIC12784174 TIC267673974\n"
     ]
    },
    {
     "name": "stderr",
     "output_type": "stream",
     "text": [
      "No data found for target \"TIC267673974\".\n"
     ]
    },
    {
     "name": "stdout",
     "output_type": "stream",
     "text": [
      "740 KIC8737920 TIC164677569\n",
      "741 KIC3240559 TIC137815739\n"
     ]
    },
    {
     "name": "stderr",
     "output_type": "stream",
     "text": [
      "No data found for target \"TIC137815739\".\n"
     ]
    },
    {
     "name": "stdout",
     "output_type": "stream",
     "text": [
      "742 KIC5197672 TIC378088846\n"
     ]
    },
    {
     "name": "stderr",
     "output_type": "stream",
     "text": [
      "No data found for target \"TIC378088846\".\n"
     ]
    },
    {
     "name": "stdout",
     "output_type": "stream",
     "text": [
      "743 KIC10155590 TIC272839443\n"
     ]
    },
    {
     "name": "stderr",
     "output_type": "stream",
     "text": [
      "No data found for target \"TIC272839443\".\n"
     ]
    },
    {
     "name": "stdout",
     "output_type": "stream",
     "text": [
      "744 KIC8816881 TIC159580373\n"
     ]
    },
    {
     "name": "stderr",
     "output_type": "stream",
     "text": [
      "No data found for target \"TIC159580373\".\n"
     ]
    },
    {
     "name": "stdout",
     "output_type": "stream",
     "text": [
      "745 KIC11854163 TIC377780896\n"
     ]
    },
    {
     "name": "stderr",
     "output_type": "stream",
     "text": [
      "No data found for target \"TIC377780896\".\n"
     ]
    },
    {
     "name": "stdout",
     "output_type": "stream",
     "text": [
      "746 KIC8703914 TIC272720402\n"
     ]
    },
    {
     "name": "stderr",
     "output_type": "stream",
     "text": [
      "No data found for target \"TIC272720402\".\n"
     ]
    },
    {
     "name": "stdout",
     "output_type": "stream",
     "text": [
      "747 KIC7630663 TIC273574191\n"
     ]
    },
    {
     "name": "stderr",
     "output_type": "stream",
     "text": [
      "No data found for target \"TIC273574191\".\n"
     ]
    },
    {
     "name": "stdout",
     "output_type": "stream",
     "text": [
      "748 KIC7106833 TIC158721684\n"
     ]
    },
    {
     "name": "stderr",
     "output_type": "stream",
     "text": [
      "No data found for target \"TIC158721684\".\n"
     ]
    },
    {
     "name": "stdout",
     "output_type": "stream",
     "text": [
      "749 KIC9641301 TIC158664619\n"
     ]
    },
    {
     "name": "stderr",
     "output_type": "stream",
     "text": [
      "No data found for target \"TIC158664619\".\n"
     ]
    },
    {
     "name": "stdout",
     "output_type": "stream",
     "text": [
      "750 KIC6586004 TIC164729751\n"
     ]
    },
    {
     "name": "stderr",
     "output_type": "stream",
     "text": [
      "No data found for target \"TIC164729751\".\n"
     ]
    },
    {
     "name": "stdout",
     "output_type": "stream",
     "text": [
      "751 KIC11904271 TIC377780792\n"
     ]
    },
    {
     "name": "stderr",
     "output_type": "stream",
     "text": [
      "No data found for target \"TIC377780792\".\n"
     ]
    },
    {
     "name": "stdout",
     "output_type": "stream",
     "text": [
      "752 KIC4949894 TIC170347650\n"
     ]
    },
    {
     "name": "stderr",
     "output_type": "stream",
     "text": [
      "No data found for target \"TIC170347650\".\n"
     ]
    },
    {
     "name": "stdout",
     "output_type": "stream",
     "text": [
      "753 KIC6447465 TIC138098455\n"
     ]
    },
    {
     "name": "stderr",
     "output_type": "stream",
     "text": [
      "No data found for target \"TIC138098455\".\n"
     ]
    },
    {
     "name": "stdout",
     "output_type": "stream",
     "text": [
      "754 KIC8382075 TIC273038357\n"
     ]
    },
    {
     "name": "stderr",
     "output_type": "stream",
     "text": [
      "No data found for target \"TIC273038357\".\n"
     ]
    },
    {
     "name": "stdout",
     "output_type": "stream",
     "text": [
      "755 KIC6359017 TIC122297175\n"
     ]
    },
    {
     "name": "stderr",
     "output_type": "stream",
     "text": [
      "No data found for target \"TIC122297175\".\n"
     ]
    },
    {
     "name": "stdout",
     "output_type": "stream",
     "text": [
      "756 KIC5724339 TIC239227383\n"
     ]
    },
    {
     "name": "stderr",
     "output_type": "stream",
     "text": [
      "No data found for target \"TIC239227383\".\n"
     ]
    },
    {
     "name": "stdout",
     "output_type": "stream",
     "text": [
      "757 KIC11601532 TIC243271721\n",
      "758 KIC12104999 TIC298834301\n"
     ]
    },
    {
     "name": "stderr",
     "output_type": "stream",
     "text": [
      "No data found for target \"TIC298834301\".\n"
     ]
    },
    {
     "name": "stdout",
     "output_type": "stream",
     "text": [
      "759 KIC11713459 TIC424814853\n"
     ]
    },
    {
     "name": "stderr",
     "output_type": "stream",
     "text": [
      "No data found for target \"TIC424814853\".\n"
     ]
    },
    {
     "name": "stdout",
     "output_type": "stream",
     "text": [
      "760 KIC8382253 TIC273038354\n"
     ]
    },
    {
     "name": "stderr",
     "output_type": "stream",
     "text": [
      "No data found for target \"TIC273038354\".\n"
     ]
    },
    {
     "name": "stdout",
     "output_type": "stream",
     "text": [
      "761 KIC10427308 TIC268706848\n"
     ]
    },
    {
     "name": "stderr",
     "output_type": "stream",
     "text": [
      "No data found for target \"TIC268706848\".\n"
     ]
    },
    {
     "name": "stdout",
     "output_type": "stream",
     "text": [
      "762 KIC4945639 TIC169079320\n"
     ]
    },
    {
     "name": "stderr",
     "output_type": "stream",
     "text": [
      "No data found for target \"TIC169079320\".\n"
     ]
    },
    {
     "name": "stdout",
     "output_type": "stream",
     "text": [
      "763 KIC11513672 TIC27240489\n"
     ]
    },
    {
     "name": "stderr",
     "output_type": "stream",
     "text": [
      "No data found for target \"TIC27240489\".\n"
     ]
    },
    {
     "name": "stdout",
     "output_type": "stream",
     "text": [
      "764 KIC10527150 TIC158731733\n"
     ]
    },
    {
     "name": "stderr",
     "output_type": "stream",
     "text": [
      "No data found for target \"TIC158731733\".\n"
     ]
    },
    {
     "name": "stdout",
     "output_type": "stream",
     "text": [
      "765 KIC6292970 TIC138638759\n"
     ]
    },
    {
     "name": "stderr",
     "output_type": "stream",
     "text": [
      "No data found for target \"TIC138638759\".\n"
     ]
    },
    {
     "name": "stdout",
     "output_type": "stream",
     "text": [
      "766 KIC10965642 TIC243272884\n"
     ]
    },
    {
     "name": "stderr",
     "output_type": "stream",
     "text": [
      "No data found for target \"TIC243272884\".\n"
     ]
    },
    {
     "name": "stdout",
     "output_type": "stream",
     "text": [
      "767 KIC9339450 TIC159513076\n"
     ]
    },
    {
     "name": "stderr",
     "output_type": "stream",
     "text": [
      "No data found for target \"TIC159513076\".\n"
     ]
    },
    {
     "name": "stdout",
     "output_type": "stream",
     "text": [
      "768 KIC11179743 TIC350813390\n"
     ]
    },
    {
     "name": "stderr",
     "output_type": "stream",
     "text": [
      "No data found for target \"TIC350813390\".\n"
     ]
    },
    {
     "name": "stdout",
     "output_type": "stream",
     "text": [
      "769 KIC10338343 TIC159726157\n"
     ]
    },
    {
     "name": "stderr",
     "output_type": "stream",
     "text": [
      "No data found for target \"TIC159726157\".\n"
     ]
    },
    {
     "name": "stdout",
     "output_type": "stream",
     "text": [
      "770 KIC11391702 TIC279918203\n"
     ]
    },
    {
     "name": "stderr",
     "output_type": "stream",
     "text": [
      "No data found for target \"TIC279918203\".\n"
     ]
    },
    {
     "name": "stdout",
     "output_type": "stream",
     "text": [
      "771 KIC12204305 TIC299152980\n"
     ]
    },
    {
     "name": "stderr",
     "output_type": "stream",
     "text": [
      "No data found for target \"TIC299152980\".\n"
     ]
    },
    {
     "name": "stdout",
     "output_type": "stream",
     "text": [
      "772 KIC9834255 TIC275576204\n"
     ]
    },
    {
     "name": "stderr",
     "output_type": "stream",
     "text": [
      "No data found for target \"TIC275576204\".\n"
     ]
    },
    {
     "name": "stdout",
     "output_type": "stream",
     "text": [
      "773 KIC12158032 TIC290032773\n"
     ]
    },
    {
     "name": "stderr",
     "output_type": "stream",
     "text": [
      "No data found for target \"TIC290032773\".\n"
     ]
    },
    {
     "name": "stdout",
     "output_type": "stream",
     "text": [
      "774 KIC11923356 TIC27776588\n",
      "775 KIC10482010 TIC272279920\n"
     ]
    },
    {
     "name": "stderr",
     "output_type": "stream",
     "text": [
      "No data found for target \"TIC272279920\".\n"
     ]
    },
    {
     "name": "stdout",
     "output_type": "stream",
     "text": [
      "776 KIC9821105 TIC158321856\n"
     ]
    },
    {
     "name": "stderr",
     "output_type": "stream",
     "text": [
      "No data found for target \"TIC158321856\".\n"
     ]
    },
    {
     "name": "stdout",
     "output_type": "stream",
     "text": [
      "777 KIC6306941 TIC169466425\n"
     ]
    },
    {
     "name": "stderr",
     "output_type": "stream",
     "text": [
      "No data found for target \"TIC169466425\".\n"
     ]
    },
    {
     "name": "stdout",
     "output_type": "stream",
     "text": [
      "778 KIC7202953 TIC63368875\n"
     ]
    },
    {
     "name": "stderr",
     "output_type": "stream",
     "text": [
      "No data found for target \"TIC63368875\".\n"
     ]
    },
    {
     "name": "stdout",
     "output_type": "stream",
     "text": [
      "779 KIC11357658 TIC27457630\n",
      "780 KIC11099299 TIC28449273\n"
     ]
    },
    {
     "name": "stderr",
     "output_type": "stream",
     "text": [
      "No data found for target \"TIC28449273\".\n"
     ]
    },
    {
     "name": "stdout",
     "output_type": "stream",
     "text": [
      "781 KIC9468214 TIC275489439\n",
      "782 KIC9656371 TIC271254712\n"
     ]
    },
    {
     "name": "stderr",
     "output_type": "stream",
     "text": [
      "No data found for target \"TIC271254712\".\n"
     ]
    },
    {
     "name": "stdout",
     "output_type": "stream",
     "text": [
      "783 KIC11959605 TIC299219045\n"
     ]
    },
    {
     "name": "stderr",
     "output_type": "stream",
     "text": [
      "No data found for target \"TIC299219045\".\n"
     ]
    },
    {
     "name": "stdout",
     "output_type": "stream",
     "text": [
      "784 KIC8189251 TIC268302384\n"
     ]
    },
    {
     "name": "stderr",
     "output_type": "stream",
     "text": [
      "No data found for target \"TIC268302384\".\n"
     ]
    },
    {
     "name": "stdout",
     "output_type": "stream",
     "text": [
      "785 KIC9770983 TIC63072268\n"
     ]
    },
    {
     "name": "stderr",
     "output_type": "stream",
     "text": [
      "No data found for target \"TIC63072268\".\n"
     ]
    },
    {
     "name": "stdout",
     "output_type": "stream",
     "text": [
      "786 KIC10612424 TIC272280786\n",
      "787 KIC7206837 TIC270705470\n",
      "788 KIC5357446 TIC122300184\n",
      "789 KIC9202950 TIC164654528\n"
     ]
    },
    {
     "name": "stderr",
     "output_type": "stream",
     "text": [
      "No data found for target \"TIC164654528\".\n"
     ]
    },
    {
     "name": "stdout",
     "output_type": "stream",
     "text": [
      "790 KIC5341647 TIC120043853\n"
     ]
    },
    {
     "name": "stderr",
     "output_type": "stream",
     "text": [
      "No data found for target \"TIC120043853\".\n"
     ]
    },
    {
     "name": "stdout",
     "output_type": "stream",
     "text": [
      "791 KIC10616716 TIC273376049\n"
     ]
    },
    {
     "name": "stderr",
     "output_type": "stream",
     "text": [
      "No data found for target \"TIC273376049\".\n"
     ]
    },
    {
     "name": "stdout",
     "output_type": "stream",
     "text": [
      "792 KIC8359544 TIC159107234\n"
     ]
    },
    {
     "name": "stderr",
     "output_type": "stream",
     "text": [
      "No data found for target \"TIC159107234\".\n"
     ]
    },
    {
     "name": "stdout",
     "output_type": "stream",
     "text": [
      "793 KIC6752578 TIC123414877\n",
      "794 KIC4355503 TIC121785583\n"
     ]
    },
    {
     "name": "stderr",
     "output_type": "stream",
     "text": [
      "No data found for target \"TIC121785583\".\n"
     ]
    },
    {
     "name": "stdout",
     "output_type": "stream",
     "text": [
      "795 KIC8758552 TIC270700647\n"
     ]
    },
    {
     "name": "stderr",
     "output_type": "stream",
     "text": [
      "No data found for target \"TIC270700647\".\n"
     ]
    },
    {
     "name": "stdout",
     "output_type": "stream",
     "text": [
      "796 KIC12122143 TIC28082949\n"
     ]
    },
    {
     "name": "stderr",
     "output_type": "stream",
     "text": [
      "No data found for target \"TIC28082949\".\n"
     ]
    },
    {
     "name": "stdout",
     "output_type": "stream",
     "text": [
      "797 KIC7510447 TIC352010751\n"
     ]
    },
    {
     "name": "stderr",
     "output_type": "stream",
     "text": [
      "No data found for target \"TIC352010751\".\n"
     ]
    },
    {
     "name": "stdout",
     "output_type": "stream",
     "text": [
      "798 KIC9202954 TIC164654558\n"
     ]
    },
    {
     "name": "stderr",
     "output_type": "stream",
     "text": [
      "No data found for target \"TIC164654558\".\n"
     ]
    },
    {
     "name": "stdout",
     "output_type": "stream",
     "text": [
      "799 KIC5436582 TIC121460929\n",
      "800 KIC8264599 TIC185058151\n"
     ]
    },
    {
     "name": "stderr",
     "output_type": "stream",
     "text": [
      "No data found for target \"TIC185058151\".\n"
     ]
    },
    {
     "name": "stdout",
     "output_type": "stream",
     "text": [
      "801 KIC7756549 TIC275493752\n"
     ]
    },
    {
     "name": "stderr",
     "output_type": "stream",
     "text": [
      "No data found for target \"TIC275493752\".\n"
     ]
    }
   ],
   "source": [
    "n_quarters = []\n",
    "kepler_long = []\n",
    "kepler_short = []\n",
    "n_sectors = []\n",
    "tess_ffi = []\n",
    "tess_short = []\n",
    "\n",
    "for i, row in cat.iterrows():\n",
    "    kic_id = f'KIC{row.kic_id:.0f}'\n",
    "    tic_id = f'TIC{row.tic_id:.0f}'\n",
    "    print(i, kic_id, tic_id)\n",
    "    \n",
    "    # Searches\n",
    "    sr_keplerlong = lk.search_targetpixelfile(kic_id, mission='Kepler', cadence='long')\n",
    "    sr_keplershort = lk.search_targetpixelfile(kic_id, mission='Kepler', cadence='short')\n",
    "    sr_tessffi = lk.search_tesscut(tic_id)\n",
    "    sr_tessshort = lk.search_targetpixelfile(tic_id, mission='TESS')\n",
    "    if len(sr_tessshort):\n",
    "        # (Having some trouble with TIC IDs)\n",
    "        idx_good = np.where(sr_tessshort.target_name == str(row.tic_id))\n",
    "        sr_tessshort = sr_tessshort[idx_good]\n",
    "    \n",
    "    # Record results\n",
    "    n_quarters.append(len(sr_keplerlong))\n",
    "    kepler_long.append(bool(len(sr_keplerlong)))\n",
    "    kepler_short.append(bool(len(sr_keplershort)))\n",
    "    n_sectors.append(len(sr_tessffi))\n",
    "    tess_ffi.append(bool(len(sr_tessffi)))\n",
    "    tess_short.append(bool(len(sr_tessshort)))"
   ]
  },
  {
   "cell_type": "code",
   "execution_count": 18,
   "metadata": {},
   "outputs": [
    {
     "data": {
      "text/html": [
       "<div>\n",
       "<style scoped>\n",
       "    .dataframe tbody tr th:only-of-type {\n",
       "        vertical-align: middle;\n",
       "    }\n",
       "\n",
       "    .dataframe tbody tr th {\n",
       "        vertical-align: top;\n",
       "    }\n",
       "\n",
       "    .dataframe thead th {\n",
       "        text-align: right;\n",
       "    }\n",
       "</style>\n",
       "<table border=\"1\" class=\"dataframe\">\n",
       "  <thead>\n",
       "    <tr style=\"text-align: right;\">\n",
       "      <th></th>\n",
       "      <th>kic_id</th>\n",
       "      <th>tic_id</th>\n",
       "      <th>n_quarters</th>\n",
       "      <th>kepler_long</th>\n",
       "      <th>kepler_short</th>\n",
       "      <th>n_sectors</th>\n",
       "      <th>tess_ffi</th>\n",
       "      <th>tess_short</th>\n",
       "    </tr>\n",
       "  </thead>\n",
       "  <tbody>\n",
       "    <tr>\n",
       "      <th>0</th>\n",
       "      <td>7756984</td>\n",
       "      <td>275493837</td>\n",
       "      <td>18</td>\n",
       "      <td>True</td>\n",
       "      <td>False</td>\n",
       "      <td>2</td>\n",
       "      <td>True</td>\n",
       "      <td>False</td>\n",
       "    </tr>\n",
       "    <tr>\n",
       "      <th>1</th>\n",
       "      <td>5352889</td>\n",
       "      <td>121789795</td>\n",
       "      <td>17</td>\n",
       "      <td>True</td>\n",
       "      <td>False</td>\n",
       "      <td>1</td>\n",
       "      <td>True</td>\n",
       "      <td>False</td>\n",
       "    </tr>\n",
       "    <tr>\n",
       "      <th>2</th>\n",
       "      <td>7033500</td>\n",
       "      <td>63007124</td>\n",
       "      <td>17</td>\n",
       "      <td>True</td>\n",
       "      <td>False</td>\n",
       "      <td>2</td>\n",
       "      <td>True</td>\n",
       "      <td>False</td>\n",
       "    </tr>\n",
       "    <tr>\n",
       "      <th>3</th>\n",
       "      <td>9025444</td>\n",
       "      <td>275490626</td>\n",
       "      <td>17</td>\n",
       "      <td>True</td>\n",
       "      <td>False</td>\n",
       "      <td>2</td>\n",
       "      <td>True</td>\n",
       "      <td>False</td>\n",
       "    </tr>\n",
       "    <tr>\n",
       "      <th>4</th>\n",
       "      <td>5561963</td>\n",
       "      <td>171098535</td>\n",
       "      <td>18</td>\n",
       "      <td>True</td>\n",
       "      <td>False</td>\n",
       "      <td>1</td>\n",
       "      <td>True</td>\n",
       "      <td>False</td>\n",
       "    </tr>\n",
       "    <tr>\n",
       "      <th>...</th>\n",
       "      <td>...</td>\n",
       "      <td>...</td>\n",
       "      <td>...</td>\n",
       "      <td>...</td>\n",
       "      <td>...</td>\n",
       "      <td>...</td>\n",
       "      <td>...</td>\n",
       "      <td>...</td>\n",
       "    </tr>\n",
       "    <tr>\n",
       "      <th>797</th>\n",
       "      <td>7510447</td>\n",
       "      <td>352010751</td>\n",
       "      <td>18</td>\n",
       "      <td>True</td>\n",
       "      <td>False</td>\n",
       "      <td>2</td>\n",
       "      <td>True</td>\n",
       "      <td>False</td>\n",
       "    </tr>\n",
       "    <tr>\n",
       "      <th>798</th>\n",
       "      <td>9202954</td>\n",
       "      <td>164654558</td>\n",
       "      <td>14</td>\n",
       "      <td>True</td>\n",
       "      <td>False</td>\n",
       "      <td>2</td>\n",
       "      <td>True</td>\n",
       "      <td>False</td>\n",
       "    </tr>\n",
       "    <tr>\n",
       "      <th>799</th>\n",
       "      <td>5436582</td>\n",
       "      <td>121460929</td>\n",
       "      <td>18</td>\n",
       "      <td>True</td>\n",
       "      <td>True</td>\n",
       "      <td>1</td>\n",
       "      <td>True</td>\n",
       "      <td>False</td>\n",
       "    </tr>\n",
       "    <tr>\n",
       "      <th>800</th>\n",
       "      <td>8264599</td>\n",
       "      <td>185058151</td>\n",
       "      <td>8</td>\n",
       "      <td>True</td>\n",
       "      <td>False</td>\n",
       "      <td>2</td>\n",
       "      <td>True</td>\n",
       "      <td>False</td>\n",
       "    </tr>\n",
       "    <tr>\n",
       "      <th>801</th>\n",
       "      <td>7756549</td>\n",
       "      <td>275493752</td>\n",
       "      <td>14</td>\n",
       "      <td>True</td>\n",
       "      <td>False</td>\n",
       "      <td>2</td>\n",
       "      <td>True</td>\n",
       "      <td>False</td>\n",
       "    </tr>\n",
       "  </tbody>\n",
       "</table>\n",
       "<p>802 rows × 8 columns</p>\n",
       "</div>"
      ],
      "text/plain": [
       "      kic_id     tic_id  n_quarters  kepler_long  kepler_short  n_sectors  \\\n",
       "0    7756984  275493837          18         True         False          2   \n",
       "1    5352889  121789795          17         True         False          1   \n",
       "2    7033500   63007124          17         True         False          2   \n",
       "3    9025444  275490626          17         True         False          2   \n",
       "4    5561963  171098535          18         True         False          1   \n",
       "..       ...        ...         ...          ...           ...        ...   \n",
       "797  7510447  352010751          18         True         False          2   \n",
       "798  9202954  164654558          14         True         False          2   \n",
       "799  5436582  121460929          18         True          True          1   \n",
       "800  8264599  185058151           8         True         False          2   \n",
       "801  7756549  275493752          14         True         False          2   \n",
       "\n",
       "     tess_ffi  tess_short  \n",
       "0        True       False  \n",
       "1        True       False  \n",
       "2        True       False  \n",
       "3        True       False  \n",
       "4        True       False  \n",
       "..        ...         ...  \n",
       "797      True       False  \n",
       "798      True       False  \n",
       "799      True       False  \n",
       "800      True       False  \n",
       "801      True       False  \n",
       "\n",
       "[802 rows x 8 columns]"
      ]
     },
     "execution_count": 18,
     "metadata": {},
     "output_type": "execute_result"
    }
   ],
   "source": [
    "df = pd.DataFrame({\n",
    "    'kic_id': cat.kic_id,\n",
    "    'tic_id': cat.tic_id,\n",
    "    'n_quarters': n_quarters,\n",
    "    'kepler_long': kepler_long,\n",
    "    'kepler_short': kepler_short,\n",
    "    'n_sectors': n_sectors,\n",
    "    'tess_ffi': tess_ffi,\n",
    "    'tess_short': tess_short\n",
    "})\n",
    "df"
   ]
  },
  {
   "cell_type": "code",
   "execution_count": 19,
   "metadata": {},
   "outputs": [],
   "source": [
    "df.to_csv('data_summary.csv', index=False)"
   ]
  },
  {
   "cell_type": "code",
   "execution_count": null,
   "metadata": {},
   "outputs": [],
   "source": []
  }
 ],
 "metadata": {
  "kernelspec": {
   "display_name": "Python 3",
   "language": "python",
   "name": "python3"
  },
  "language_info": {
   "codemirror_mode": {
    "name": "ipython",
    "version": 3
   },
   "file_extension": ".py",
   "mimetype": "text/x-python",
   "name": "python",
   "nbconvert_exporter": "python",
   "pygments_lexer": "ipython3",
   "version": "3.7.9"
  }
 },
 "nbformat": 4,
 "nbformat_minor": 4
}
